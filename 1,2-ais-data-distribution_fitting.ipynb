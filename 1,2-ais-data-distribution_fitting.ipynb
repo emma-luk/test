{
  "cells": [
    {
      "cell_type": "code",
      "source": [
        "import pandas as pd\r\n",
        "import scipy.stats as stats\r\n",
        "from scipy.stats import chi2"
      ],
      "outputs": [],
      "execution_count": 42,
      "metadata": {
        "jupyter": {
          "source_hidden": false,
          "outputs_hidden": false
        },
        "nteract": {
          "transient": {
            "deleting": false
          }
        },
        "gather": {
          "logged": 1643023699980
        }
      }
    },
    {
      "cell_type": "code",
      "source": [
        "# azureml-core of version 1.0.72 or higher is required\r\n",
        "# azureml-dataprep[pandas] of version 1.1.34 or higher is required\r\n",
        "from azureml.core import Workspace, Dataset\r\n",
        "\r\n",
        "subscription_id = '624bc4e1-3ea7-4a94-93f3-4f3f3e4c45fa'\r\n",
        "resource_group = 'erspc-test-resource-group'\r\n",
        "workspace_name = 'DryRunMLWorkspace'\r\n",
        "\r\n",
        "workspace = Workspace(subscription_id, resource_group, workspace_name)\r\n",
        "\r\n",
        "dataset = Dataset.get_by_name(workspace, name='ais-with-larger-geospatial-limit')\r\n",
        "ais_reporting_rates = dataset.to_pandas_dataframe()\r\n"
      ],
      "outputs": [],
      "execution_count": 43,
      "metadata": {
        "gather": {
          "logged": 1643023724788
        }
      }
    },
    {
      "cell_type": "code",
      "source": [
        "#checking the first 5 records in the data\r\n",
        "ais_reporting_rates.head()"
      ],
      "outputs": [
        {
          "output_type": "execute_result",
          "execution_count": 44,
          "data": {
            "text/plain": "   message_id      mmsi  message_time_stamp        lat       lon  heading  \\\n0     9428086  11223344 2020-03-12 17:21:26  50.423552 -0.580688    254.0   \n1     9429453  11223344 2020-03-12 17:26:44  50.419567 -0.609708    260.0   \n2     9430776  11223344 2020-03-12 17:31:22  50.416072 -0.635027    260.0   \n3     9432046  11223344 2020-03-12 17:36:45  50.411950 -0.664525    260.0   \n4     9433162  11223344 2020-03-12 17:42:02  50.407778 -0.693447    260.0   \n\n    sog                  status destination vessel_type  \n0  12.7  Under way using engine        None         N/A  \n1  12.6  Under way using engine        None         N/A  \n2  13.1  Under way using engine        None         N/A  \n3  13.0  Under way using engine        None         N/A  \n4  13.0  Under way using engine        None         N/A  ",
            "text/html": "<div>\n<style scoped>\n    .dataframe tbody tr th:only-of-type {\n        vertical-align: middle;\n    }\n\n    .dataframe tbody tr th {\n        vertical-align: top;\n    }\n\n    .dataframe thead th {\n        text-align: right;\n    }\n</style>\n<table border=\"1\" class=\"dataframe\">\n  <thead>\n    <tr style=\"text-align: right;\">\n      <th></th>\n      <th>message_id</th>\n      <th>mmsi</th>\n      <th>message_time_stamp</th>\n      <th>lat</th>\n      <th>lon</th>\n      <th>heading</th>\n      <th>sog</th>\n      <th>status</th>\n      <th>destination</th>\n      <th>vessel_type</th>\n    </tr>\n  </thead>\n  <tbody>\n    <tr>\n      <th>0</th>\n      <td>9428086</td>\n      <td>11223344</td>\n      <td>2020-03-12 17:21:26</td>\n      <td>50.423552</td>\n      <td>-0.580688</td>\n      <td>254.0</td>\n      <td>12.7</td>\n      <td>Under way using engine</td>\n      <td>None</td>\n      <td>N/A</td>\n    </tr>\n    <tr>\n      <th>1</th>\n      <td>9429453</td>\n      <td>11223344</td>\n      <td>2020-03-12 17:26:44</td>\n      <td>50.419567</td>\n      <td>-0.609708</td>\n      <td>260.0</td>\n      <td>12.6</td>\n      <td>Under way using engine</td>\n      <td>None</td>\n      <td>N/A</td>\n    </tr>\n    <tr>\n      <th>2</th>\n      <td>9430776</td>\n      <td>11223344</td>\n      <td>2020-03-12 17:31:22</td>\n      <td>50.416072</td>\n      <td>-0.635027</td>\n      <td>260.0</td>\n      <td>13.1</td>\n      <td>Under way using engine</td>\n      <td>None</td>\n      <td>N/A</td>\n    </tr>\n    <tr>\n      <th>3</th>\n      <td>9432046</td>\n      <td>11223344</td>\n      <td>2020-03-12 17:36:45</td>\n      <td>50.411950</td>\n      <td>-0.664525</td>\n      <td>260.0</td>\n      <td>13.0</td>\n      <td>Under way using engine</td>\n      <td>None</td>\n      <td>N/A</td>\n    </tr>\n    <tr>\n      <th>4</th>\n      <td>9433162</td>\n      <td>11223344</td>\n      <td>2020-03-12 17:42:02</td>\n      <td>50.407778</td>\n      <td>-0.693447</td>\n      <td>260.0</td>\n      <td>13.0</td>\n      <td>Under way using engine</td>\n      <td>None</td>\n      <td>N/A</td>\n    </tr>\n  </tbody>\n</table>\n</div>"
          },
          "metadata": {}
        }
      ],
      "execution_count": 44,
      "metadata": {
        "jupyter": {
          "source_hidden": false,
          "outputs_hidden": false
        },
        "nteract": {
          "transient": {
            "deleting": false
          }
        },
        "gather": {
          "logged": 1643023736029
        }
      }
    },
    {
      "cell_type": "code",
      "source": [
        "#checking the last 5 records in the data\r\n",
        "ais_reporting_rates.tail()"
      ],
      "outputs": [
        {
          "output_type": "execute_result",
          "execution_count": 45,
          "data": {
            "text/plain": "        message_id       mmsi  message_time_stamp        lat       lon  \\\n368944    11479752  710032130 2020-03-20 20:42:00  50.306265 -1.157915   \n368945    11480956  710032130 2020-03-20 20:56:41  50.294537 -1.239870   \n368946    11481903  710032130 2020-03-20 21:00:41  50.291395 -1.262475   \n368947    11482991  710032130 2020-03-20 21:06:40  50.286498 -1.296945   \n368948    11484116  710032130 2020-03-20 21:12:03  50.282047 -1.328098   \n\n        heading   sog             status         destination vessel_type  \n368944    257.0  13.0  Under way sailing  ANGRA DOS REIS_BRA      Tanker  \n368945    257.0  13.2  Under way sailing  ANGRA DOS REIS_BRA      Tanker  \n368946    257.0  13.5  Under way sailing  ANGRA DOS REIS_BRA      Tanker  \n368947    257.0  13.7  Under way sailing  ANGRA DOS REIS_BRA      Tanker  \n368948    257.0  13.8  Under way sailing  ANGRA DOS REIS_BRA      Tanker  ",
            "text/html": "<div>\n<style scoped>\n    .dataframe tbody tr th:only-of-type {\n        vertical-align: middle;\n    }\n\n    .dataframe tbody tr th {\n        vertical-align: top;\n    }\n\n    .dataframe thead th {\n        text-align: right;\n    }\n</style>\n<table border=\"1\" class=\"dataframe\">\n  <thead>\n    <tr style=\"text-align: right;\">\n      <th></th>\n      <th>message_id</th>\n      <th>mmsi</th>\n      <th>message_time_stamp</th>\n      <th>lat</th>\n      <th>lon</th>\n      <th>heading</th>\n      <th>sog</th>\n      <th>status</th>\n      <th>destination</th>\n      <th>vessel_type</th>\n    </tr>\n  </thead>\n  <tbody>\n    <tr>\n      <th>368944</th>\n      <td>11479752</td>\n      <td>710032130</td>\n      <td>2020-03-20 20:42:00</td>\n      <td>50.306265</td>\n      <td>-1.157915</td>\n      <td>257.0</td>\n      <td>13.0</td>\n      <td>Under way sailing</td>\n      <td>ANGRA DOS REIS_BRA</td>\n      <td>Tanker</td>\n    </tr>\n    <tr>\n      <th>368945</th>\n      <td>11480956</td>\n      <td>710032130</td>\n      <td>2020-03-20 20:56:41</td>\n      <td>50.294537</td>\n      <td>-1.239870</td>\n      <td>257.0</td>\n      <td>13.2</td>\n      <td>Under way sailing</td>\n      <td>ANGRA DOS REIS_BRA</td>\n      <td>Tanker</td>\n    </tr>\n    <tr>\n      <th>368946</th>\n      <td>11481903</td>\n      <td>710032130</td>\n      <td>2020-03-20 21:00:41</td>\n      <td>50.291395</td>\n      <td>-1.262475</td>\n      <td>257.0</td>\n      <td>13.5</td>\n      <td>Under way sailing</td>\n      <td>ANGRA DOS REIS_BRA</td>\n      <td>Tanker</td>\n    </tr>\n    <tr>\n      <th>368947</th>\n      <td>11482991</td>\n      <td>710032130</td>\n      <td>2020-03-20 21:06:40</td>\n      <td>50.286498</td>\n      <td>-1.296945</td>\n      <td>257.0</td>\n      <td>13.7</td>\n      <td>Under way sailing</td>\n      <td>ANGRA DOS REIS_BRA</td>\n      <td>Tanker</td>\n    </tr>\n    <tr>\n      <th>368948</th>\n      <td>11484116</td>\n      <td>710032130</td>\n      <td>2020-03-20 21:12:03</td>\n      <td>50.282047</td>\n      <td>-1.328098</td>\n      <td>257.0</td>\n      <td>13.8</td>\n      <td>Under way sailing</td>\n      <td>ANGRA DOS REIS_BRA</td>\n      <td>Tanker</td>\n    </tr>\n  </tbody>\n</table>\n</div>"
          },
          "metadata": {}
        }
      ],
      "execution_count": 45,
      "metadata": {
        "jupyter": {
          "source_hidden": false,
          "outputs_hidden": false
        },
        "nteract": {
          "transient": {
            "deleting": false
          }
        },
        "gather": {
          "logged": 1643023739166
        }
      }
    },
    {
      "cell_type": "code",
      "source": [
        "# #checking the columns\r\n",
        "ais_reporting_rates.columns"
      ],
      "outputs": [
        {
          "output_type": "execute_result",
          "execution_count": 46,
          "data": {
            "text/plain": "Index(['message_id', 'mmsi', 'message_time_stamp', 'lat', 'lon', 'heading',\n       'sog', 'status', 'destination', 'vessel_type'],\n      dtype='object')"
          },
          "metadata": {}
        }
      ],
      "execution_count": 46,
      "metadata": {
        "jupyter": {
          "source_hidden": false,
          "outputs_hidden": false
        },
        "nteract": {
          "transient": {
            "deleting": false
          }
        },
        "gather": {
          "logged": 1643023742430
        }
      }
    },
    {
      "cell_type": "code",
      "source": [
        "# check unique vessel_type\r\n",
        "ais_reporting_rates[\"vessel_type\"].unique()"
      ],
      "outputs": [
        {
          "output_type": "execute_result",
          "execution_count": 47,
          "data": {
            "text/plain": "array(['N/A', 'Search And Rescue', 'Vessel', 'Tanker', 'Cargo',\n       'Wing In Ground-effect', 'Passenger', 'Tug', 'Law Enforcement',\n       'High Speed Craft'], dtype=object)"
          },
          "metadata": {}
        }
      ],
      "execution_count": 47,
      "metadata": {
        "jupyter": {
          "source_hidden": false,
          "outputs_hidden": false
        },
        "nteract": {
          "transient": {
            "deleting": false
          }
        },
        "gather": {
          "logged": 1643023745995
        }
      }
    },
    {
      "cell_type": "code",
      "source": [
        "# select tug from ais_reporting_rates\r\n",
        "select_tug = ais_reporting_rates.loc[ais_reporting_rates[\"vessel_type\"] == 'Tug']\r\n",
        "select_tug.head()"
      ],
      "outputs": [
        {
          "output_type": "execute_result",
          "execution_count": 48,
          "data": {
            "text/plain": "       message_id       mmsi  message_time_stamp        lat       lon  \\\n42185     4872600  220581000 2020-02-27 01:29:26  50.060955 -1.482018   \n42186     4873678  220581000 2020-02-27 01:34:16  50.063183 -1.471420   \n42187     4874733  220581000 2020-02-27 01:39:36  50.065442 -1.460170   \n42188     4875898  220581000 2020-02-27 01:44:45  50.067558 -1.449750   \n42189     4877085  220581000 2020-02-27 01:49:35  50.069582 -1.439963   \n\n       heading  sog                  status destination vessel_type  \n42185     76.0  5.4  Under way using engine      DK EBJ         Tug  \n42186     77.0  5.2  Under way using engine      DK EBJ         Tug  \n42187     79.0  4.9  Under way using engine      DK EBJ         Tug  \n42188     80.0  4.8  Under way using engine      DK EBJ         Tug  \n42189     80.0  4.9  Under way using engine      DK EBJ         Tug  ",
            "text/html": "<div>\n<style scoped>\n    .dataframe tbody tr th:only-of-type {\n        vertical-align: middle;\n    }\n\n    .dataframe tbody tr th {\n        vertical-align: top;\n    }\n\n    .dataframe thead th {\n        text-align: right;\n    }\n</style>\n<table border=\"1\" class=\"dataframe\">\n  <thead>\n    <tr style=\"text-align: right;\">\n      <th></th>\n      <th>message_id</th>\n      <th>mmsi</th>\n      <th>message_time_stamp</th>\n      <th>lat</th>\n      <th>lon</th>\n      <th>heading</th>\n      <th>sog</th>\n      <th>status</th>\n      <th>destination</th>\n      <th>vessel_type</th>\n    </tr>\n  </thead>\n  <tbody>\n    <tr>\n      <th>42185</th>\n      <td>4872600</td>\n      <td>220581000</td>\n      <td>2020-02-27 01:29:26</td>\n      <td>50.060955</td>\n      <td>-1.482018</td>\n      <td>76.0</td>\n      <td>5.4</td>\n      <td>Under way using engine</td>\n      <td>DK EBJ</td>\n      <td>Tug</td>\n    </tr>\n    <tr>\n      <th>42186</th>\n      <td>4873678</td>\n      <td>220581000</td>\n      <td>2020-02-27 01:34:16</td>\n      <td>50.063183</td>\n      <td>-1.471420</td>\n      <td>77.0</td>\n      <td>5.2</td>\n      <td>Under way using engine</td>\n      <td>DK EBJ</td>\n      <td>Tug</td>\n    </tr>\n    <tr>\n      <th>42187</th>\n      <td>4874733</td>\n      <td>220581000</td>\n      <td>2020-02-27 01:39:36</td>\n      <td>50.065442</td>\n      <td>-1.460170</td>\n      <td>79.0</td>\n      <td>4.9</td>\n      <td>Under way using engine</td>\n      <td>DK EBJ</td>\n      <td>Tug</td>\n    </tr>\n    <tr>\n      <th>42188</th>\n      <td>4875898</td>\n      <td>220581000</td>\n      <td>2020-02-27 01:44:45</td>\n      <td>50.067558</td>\n      <td>-1.449750</td>\n      <td>80.0</td>\n      <td>4.8</td>\n      <td>Under way using engine</td>\n      <td>DK EBJ</td>\n      <td>Tug</td>\n    </tr>\n    <tr>\n      <th>42189</th>\n      <td>4877085</td>\n      <td>220581000</td>\n      <td>2020-02-27 01:49:35</td>\n      <td>50.069582</td>\n      <td>-1.439963</td>\n      <td>80.0</td>\n      <td>4.9</td>\n      <td>Under way using engine</td>\n      <td>DK EBJ</td>\n      <td>Tug</td>\n    </tr>\n  </tbody>\n</table>\n</div>"
          },
          "metadata": {}
        }
      ],
      "execution_count": 48,
      "metadata": {
        "jupyter": {
          "source_hidden": false,
          "outputs_hidden": false
        },
        "nteract": {
          "transient": {
            "deleting": false
          }
        },
        "gather": {
          "logged": 1643023748906
        }
      }
    },
    {
      "cell_type": "code",
      "source": [
        "# select Vessel from ais_reporting_rates\r\n",
        "select_vessel = ais_reporting_rates.loc[ais_reporting_rates[\"vessel_type\"] == 'Vessel']\r\n",
        "select_vessel.head()"
      ],
      "outputs": [
        {
          "output_type": "execute_result",
          "execution_count": 49,
          "data": {
            "text/plain": "     message_id       mmsi  message_time_stamp        lat       lon  heading  \\\n656     7159586  205059000 2020-03-05 12:13:09  49.726305 -0.297062    135.0   \n657     7160920  205059000 2020-03-05 12:19:29  49.713280 -0.278175    135.0   \n658     9267847  205059000 2020-03-12 05:24:38  49.753125 -0.407357    140.0   \n659     9269037  205059000 2020-03-12 05:29:19  49.747920 -0.403150    137.0   \n660     9281219  205059000 2020-03-12 06:30:52  49.694217 -0.309612    132.0   \n\n      sog              status destination vessel_type  \n656  10.2  Engaged in fishing        HOME      Vessel  \n657  10.2  Engaged in fishing        HOME      Vessel  \n658   4.3  Engaged in fishing        HOME      Vessel  \n659   4.6  Engaged in fishing        HOME      Vessel  \n660   3.8  Engaged in fishing        HOME      Vessel  ",
            "text/html": "<div>\n<style scoped>\n    .dataframe tbody tr th:only-of-type {\n        vertical-align: middle;\n    }\n\n    .dataframe tbody tr th {\n        vertical-align: top;\n    }\n\n    .dataframe thead th {\n        text-align: right;\n    }\n</style>\n<table border=\"1\" class=\"dataframe\">\n  <thead>\n    <tr style=\"text-align: right;\">\n      <th></th>\n      <th>message_id</th>\n      <th>mmsi</th>\n      <th>message_time_stamp</th>\n      <th>lat</th>\n      <th>lon</th>\n      <th>heading</th>\n      <th>sog</th>\n      <th>status</th>\n      <th>destination</th>\n      <th>vessel_type</th>\n    </tr>\n  </thead>\n  <tbody>\n    <tr>\n      <th>656</th>\n      <td>7159586</td>\n      <td>205059000</td>\n      <td>2020-03-05 12:13:09</td>\n      <td>49.726305</td>\n      <td>-0.297062</td>\n      <td>135.0</td>\n      <td>10.2</td>\n      <td>Engaged in fishing</td>\n      <td>HOME</td>\n      <td>Vessel</td>\n    </tr>\n    <tr>\n      <th>657</th>\n      <td>7160920</td>\n      <td>205059000</td>\n      <td>2020-03-05 12:19:29</td>\n      <td>49.713280</td>\n      <td>-0.278175</td>\n      <td>135.0</td>\n      <td>10.2</td>\n      <td>Engaged in fishing</td>\n      <td>HOME</td>\n      <td>Vessel</td>\n    </tr>\n    <tr>\n      <th>658</th>\n      <td>9267847</td>\n      <td>205059000</td>\n      <td>2020-03-12 05:24:38</td>\n      <td>49.753125</td>\n      <td>-0.407357</td>\n      <td>140.0</td>\n      <td>4.3</td>\n      <td>Engaged in fishing</td>\n      <td>HOME</td>\n      <td>Vessel</td>\n    </tr>\n    <tr>\n      <th>659</th>\n      <td>9269037</td>\n      <td>205059000</td>\n      <td>2020-03-12 05:29:19</td>\n      <td>49.747920</td>\n      <td>-0.403150</td>\n      <td>137.0</td>\n      <td>4.6</td>\n      <td>Engaged in fishing</td>\n      <td>HOME</td>\n      <td>Vessel</td>\n    </tr>\n    <tr>\n      <th>660</th>\n      <td>9281219</td>\n      <td>205059000</td>\n      <td>2020-03-12 06:30:52</td>\n      <td>49.694217</td>\n      <td>-0.309612</td>\n      <td>132.0</td>\n      <td>3.8</td>\n      <td>Engaged in fishing</td>\n      <td>HOME</td>\n      <td>Vessel</td>\n    </tr>\n  </tbody>\n</table>\n</div>"
          },
          "metadata": {}
        }
      ],
      "execution_count": 49,
      "metadata": {
        "jupyter": {
          "source_hidden": false,
          "outputs_hidden": false
        },
        "nteract": {
          "transient": {
            "deleting": false
          }
        },
        "gather": {
          "logged": 1643023752319
        }
      }
    },
    {
      "cell_type": "code",
      "source": [
        "# select Tanker from ais_reporting_rates\r\n",
        "select_tanker = ais_reporting_rates.loc[ais_reporting_rates[\"vessel_type\"] == 'Tanker']\r\n",
        "select_tanker.head()"
      ],
      "outputs": [
        {
          "output_type": "execute_result",
          "execution_count": 50,
          "data": {
            "text/plain": "      message_id       mmsi  message_time_stamp        lat       lon  heading  \\\n9716      796163  205366000 2020-02-13 02:18:33  50.405007 -0.509652    252.0   \n9717      797284  205366000 2020-02-13 02:23:52  50.399578 -0.539855    251.0   \n9718      798466  205366000 2020-02-13 02:28:28  50.394938 -0.566318    251.0   \n9719      799667  205366000 2020-02-13 02:33:56  50.389322 -0.598083    250.0   \n9720      800928  205366000 2020-02-13 02:38:33  50.384413 -0.624985    250.0   \n\n       sog                  status destination vessel_type  \n9716  13.4  Under way using engine     MONTOIR      Tanker  \n9717  13.8  Under way using engine     MONTOIR      Tanker  \n9718  13.8  Under way using engine     MONTOIR      Tanker  \n9719  13.9  Under way using engine     MONTOIR      Tanker  \n9720  13.9  Under way using engine     MONTOIR      Tanker  ",
            "text/html": "<div>\n<style scoped>\n    .dataframe tbody tr th:only-of-type {\n        vertical-align: middle;\n    }\n\n    .dataframe tbody tr th {\n        vertical-align: top;\n    }\n\n    .dataframe thead th {\n        text-align: right;\n    }\n</style>\n<table border=\"1\" class=\"dataframe\">\n  <thead>\n    <tr style=\"text-align: right;\">\n      <th></th>\n      <th>message_id</th>\n      <th>mmsi</th>\n      <th>message_time_stamp</th>\n      <th>lat</th>\n      <th>lon</th>\n      <th>heading</th>\n      <th>sog</th>\n      <th>status</th>\n      <th>destination</th>\n      <th>vessel_type</th>\n    </tr>\n  </thead>\n  <tbody>\n    <tr>\n      <th>9716</th>\n      <td>796163</td>\n      <td>205366000</td>\n      <td>2020-02-13 02:18:33</td>\n      <td>50.405007</td>\n      <td>-0.509652</td>\n      <td>252.0</td>\n      <td>13.4</td>\n      <td>Under way using engine</td>\n      <td>MONTOIR</td>\n      <td>Tanker</td>\n    </tr>\n    <tr>\n      <th>9717</th>\n      <td>797284</td>\n      <td>205366000</td>\n      <td>2020-02-13 02:23:52</td>\n      <td>50.399578</td>\n      <td>-0.539855</td>\n      <td>251.0</td>\n      <td>13.8</td>\n      <td>Under way using engine</td>\n      <td>MONTOIR</td>\n      <td>Tanker</td>\n    </tr>\n    <tr>\n      <th>9718</th>\n      <td>798466</td>\n      <td>205366000</td>\n      <td>2020-02-13 02:28:28</td>\n      <td>50.394938</td>\n      <td>-0.566318</td>\n      <td>251.0</td>\n      <td>13.8</td>\n      <td>Under way using engine</td>\n      <td>MONTOIR</td>\n      <td>Tanker</td>\n    </tr>\n    <tr>\n      <th>9719</th>\n      <td>799667</td>\n      <td>205366000</td>\n      <td>2020-02-13 02:33:56</td>\n      <td>50.389322</td>\n      <td>-0.598083</td>\n      <td>250.0</td>\n      <td>13.9</td>\n      <td>Under way using engine</td>\n      <td>MONTOIR</td>\n      <td>Tanker</td>\n    </tr>\n    <tr>\n      <th>9720</th>\n      <td>800928</td>\n      <td>205366000</td>\n      <td>2020-02-13 02:38:33</td>\n      <td>50.384413</td>\n      <td>-0.624985</td>\n      <td>250.0</td>\n      <td>13.9</td>\n      <td>Under way using engine</td>\n      <td>MONTOIR</td>\n      <td>Tanker</td>\n    </tr>\n  </tbody>\n</table>\n</div>"
          },
          "metadata": {}
        }
      ],
      "execution_count": 50,
      "metadata": {
        "jupyter": {
          "source_hidden": false,
          "outputs_hidden": false
        },
        "nteract": {
          "transient": {
            "deleting": false
          }
        },
        "gather": {
          "logged": 1643023758077
        }
      }
    },
    {
      "cell_type": "code",
      "source": [
        "# select Search And Rescue from ais_reporting_rates\r\n",
        "select_search_and_rescue = ais_reporting_rates.loc[ais_reporting_rates[\"vessel_type\"] == 'Search And Rescue']\r\n",
        "select_search_and_rescue.head()"
      ],
      "outputs": [
        {
          "output_type": "execute_result",
          "execution_count": 51,
          "data": {
            "text/plain": "     message_id       mmsi  message_time_stamp        lat       lon  heading  \\\n649    11420222  111232533 2020-03-20 16:00:43  50.436197 -0.818347     76.3   \n650    11421615  111232533 2020-03-20 16:07:22  50.444643 -0.746983    232.2   \n651    11422809  111232533 2020-03-20 16:12:03  50.442142 -0.766278    256.4   \n652    11424033  111232533 2020-03-20 16:17:13  50.439643 -0.788652    262.1   \n653    11425149  111232533 2020-03-20 16:21:51  50.437240 -0.808268    252.9   \n\n      sog status destination        vessel_type  \n649  62.0    N/A        None  Search And Rescue  \n650  10.0    N/A        None  Search And Rescue  \n651   9.0    N/A        None  Search And Rescue  \n652  10.0    N/A        None  Search And Rescue  \n653  10.0    N/A        None  Search And Rescue  ",
            "text/html": "<div>\n<style scoped>\n    .dataframe tbody tr th:only-of-type {\n        vertical-align: middle;\n    }\n\n    .dataframe tbody tr th {\n        vertical-align: top;\n    }\n\n    .dataframe thead th {\n        text-align: right;\n    }\n</style>\n<table border=\"1\" class=\"dataframe\">\n  <thead>\n    <tr style=\"text-align: right;\">\n      <th></th>\n      <th>message_id</th>\n      <th>mmsi</th>\n      <th>message_time_stamp</th>\n      <th>lat</th>\n      <th>lon</th>\n      <th>heading</th>\n      <th>sog</th>\n      <th>status</th>\n      <th>destination</th>\n      <th>vessel_type</th>\n    </tr>\n  </thead>\n  <tbody>\n    <tr>\n      <th>649</th>\n      <td>11420222</td>\n      <td>111232533</td>\n      <td>2020-03-20 16:00:43</td>\n      <td>50.436197</td>\n      <td>-0.818347</td>\n      <td>76.3</td>\n      <td>62.0</td>\n      <td>N/A</td>\n      <td>None</td>\n      <td>Search And Rescue</td>\n    </tr>\n    <tr>\n      <th>650</th>\n      <td>11421615</td>\n      <td>111232533</td>\n      <td>2020-03-20 16:07:22</td>\n      <td>50.444643</td>\n      <td>-0.746983</td>\n      <td>232.2</td>\n      <td>10.0</td>\n      <td>N/A</td>\n      <td>None</td>\n      <td>Search And Rescue</td>\n    </tr>\n    <tr>\n      <th>651</th>\n      <td>11422809</td>\n      <td>111232533</td>\n      <td>2020-03-20 16:12:03</td>\n      <td>50.442142</td>\n      <td>-0.766278</td>\n      <td>256.4</td>\n      <td>9.0</td>\n      <td>N/A</td>\n      <td>None</td>\n      <td>Search And Rescue</td>\n    </tr>\n    <tr>\n      <th>652</th>\n      <td>11424033</td>\n      <td>111232533</td>\n      <td>2020-03-20 16:17:13</td>\n      <td>50.439643</td>\n      <td>-0.788652</td>\n      <td>262.1</td>\n      <td>10.0</td>\n      <td>N/A</td>\n      <td>None</td>\n      <td>Search And Rescue</td>\n    </tr>\n    <tr>\n      <th>653</th>\n      <td>11425149</td>\n      <td>111232533</td>\n      <td>2020-03-20 16:21:51</td>\n      <td>50.437240</td>\n      <td>-0.808268</td>\n      <td>252.9</td>\n      <td>10.0</td>\n      <td>N/A</td>\n      <td>None</td>\n      <td>Search And Rescue</td>\n    </tr>\n  </tbody>\n</table>\n</div>"
          },
          "metadata": {}
        }
      ],
      "execution_count": 51,
      "metadata": {
        "jupyter": {
          "source_hidden": false,
          "outputs_hidden": false
        },
        "nteract": {
          "transient": {
            "deleting": false
          }
        },
        "gather": {
          "logged": 1643023761349
        }
      }
    },
    {
      "cell_type": "code",
      "source": [
        "# select Cargo from ais_reporting_rates\r\n",
        "select_cargo = ais_reporting_rates.loc[ais_reporting_rates[\"vessel_type\"] == 'Cargo']\r\n",
        "select_cargo.head()"
      ],
      "outputs": [
        {
          "output_type": "execute_result",
          "execution_count": 52,
          "data": {
            "text/plain": "      message_id       mmsi  message_time_stamp        lat       lon  heading  \\\n9912     1130109  205439000 2020-02-14 04:53:27  49.731933 -0.435420    143.0   \n9913     1131338  205439000 2020-02-14 04:58:48  49.720943 -0.425573    140.0   \n9914     1132600  205439000 2020-02-14 05:03:27  49.711340 -0.416870    140.0   \n9915     1133840  205439000 2020-02-14 05:07:57  49.701975 -0.408578    139.0   \n9916     1135058  205439000 2020-02-14 05:13:27  49.690483 -0.398583    139.0   \n\n      sog                  status    destination vessel_type  \n9912  8.6  Under way using engine  BE ANR_FR URO       Cargo  \n9913  8.7  Under way using engine  BE ANR_FR URO       Cargo  \n9914  8.6  Under way using engine  BE ANR_FR URO       Cargo  \n9915  8.6  Under way using engine  BE ANR_FR URO       Cargo  \n9916  8.6  Under way using engine  BE ANR_FR URO       Cargo  ",
            "text/html": "<div>\n<style scoped>\n    .dataframe tbody tr th:only-of-type {\n        vertical-align: middle;\n    }\n\n    .dataframe tbody tr th {\n        vertical-align: top;\n    }\n\n    .dataframe thead th {\n        text-align: right;\n    }\n</style>\n<table border=\"1\" class=\"dataframe\">\n  <thead>\n    <tr style=\"text-align: right;\">\n      <th></th>\n      <th>message_id</th>\n      <th>mmsi</th>\n      <th>message_time_stamp</th>\n      <th>lat</th>\n      <th>lon</th>\n      <th>heading</th>\n      <th>sog</th>\n      <th>status</th>\n      <th>destination</th>\n      <th>vessel_type</th>\n    </tr>\n  </thead>\n  <tbody>\n    <tr>\n      <th>9912</th>\n      <td>1130109</td>\n      <td>205439000</td>\n      <td>2020-02-14 04:53:27</td>\n      <td>49.731933</td>\n      <td>-0.435420</td>\n      <td>143.0</td>\n      <td>8.6</td>\n      <td>Under way using engine</td>\n      <td>BE ANR_FR URO</td>\n      <td>Cargo</td>\n    </tr>\n    <tr>\n      <th>9913</th>\n      <td>1131338</td>\n      <td>205439000</td>\n      <td>2020-02-14 04:58:48</td>\n      <td>49.720943</td>\n      <td>-0.425573</td>\n      <td>140.0</td>\n      <td>8.7</td>\n      <td>Under way using engine</td>\n      <td>BE ANR_FR URO</td>\n      <td>Cargo</td>\n    </tr>\n    <tr>\n      <th>9914</th>\n      <td>1132600</td>\n      <td>205439000</td>\n      <td>2020-02-14 05:03:27</td>\n      <td>49.711340</td>\n      <td>-0.416870</td>\n      <td>140.0</td>\n      <td>8.6</td>\n      <td>Under way using engine</td>\n      <td>BE ANR_FR URO</td>\n      <td>Cargo</td>\n    </tr>\n    <tr>\n      <th>9915</th>\n      <td>1133840</td>\n      <td>205439000</td>\n      <td>2020-02-14 05:07:57</td>\n      <td>49.701975</td>\n      <td>-0.408578</td>\n      <td>139.0</td>\n      <td>8.6</td>\n      <td>Under way using engine</td>\n      <td>BE ANR_FR URO</td>\n      <td>Cargo</td>\n    </tr>\n    <tr>\n      <th>9916</th>\n      <td>1135058</td>\n      <td>205439000</td>\n      <td>2020-02-14 05:13:27</td>\n      <td>49.690483</td>\n      <td>-0.398583</td>\n      <td>139.0</td>\n      <td>8.6</td>\n      <td>Under way using engine</td>\n      <td>BE ANR_FR URO</td>\n      <td>Cargo</td>\n    </tr>\n  </tbody>\n</table>\n</div>"
          },
          "metadata": {}
        }
      ],
      "execution_count": 52,
      "metadata": {
        "jupyter": {
          "source_hidden": false,
          "outputs_hidden": false
        },
        "nteract": {
          "transient": {
            "deleting": false
          }
        },
        "gather": {
          "logged": 1643023765093
        }
      }
    },
    {
      "cell_type": "code",
      "source": [
        "# select Passenger from ais_reporting_rates\r\n",
        "select_passenger = ais_reporting_rates.loc[ais_reporting_rates[\"vessel_type\"] == 'Passenger']\r\n",
        "select_passenger.head()"
      ],
      "outputs": [
        {
          "output_type": "execute_result",
          "execution_count": 53,
          "data": {
            "text/plain": "       message_id       mmsi  message_time_stamp        lat       lon  \\\n19732    11793278  209952000 2020-03-22 02:30:29  50.387083 -0.521268   \n19733    11794339  209952000 2020-03-22 02:35:49  50.372903 -0.569853   \n19734    11795546  209952000 2020-03-22 02:40:29  50.367902 -0.616153   \n19735    11796673  209952000 2020-03-22 02:45:49  50.362618 -0.669155   \n19736    11797891  209952000 2020-03-22 02:50:30  50.358125 -0.715908   \n\n       heading   sog                  status destination vessel_type  \n19732    233.0  23.2  Under way using engine      DUBLIN   Passenger  \n19733    257.0  23.0  Under way using engine      DUBLIN   Passenger  \n19734    262.0  23.2  Under way using engine      DUBLIN   Passenger  \n19735    262.0  23.2  Under way using engine      DUBLIN   Passenger  \n19736    262.0  23.3  Under way using engine      DUBLIN   Passenger  ",
            "text/html": "<div>\n<style scoped>\n    .dataframe tbody tr th:only-of-type {\n        vertical-align: middle;\n    }\n\n    .dataframe tbody tr th {\n        vertical-align: top;\n    }\n\n    .dataframe thead th {\n        text-align: right;\n    }\n</style>\n<table border=\"1\" class=\"dataframe\">\n  <thead>\n    <tr style=\"text-align: right;\">\n      <th></th>\n      <th>message_id</th>\n      <th>mmsi</th>\n      <th>message_time_stamp</th>\n      <th>lat</th>\n      <th>lon</th>\n      <th>heading</th>\n      <th>sog</th>\n      <th>status</th>\n      <th>destination</th>\n      <th>vessel_type</th>\n    </tr>\n  </thead>\n  <tbody>\n    <tr>\n      <th>19732</th>\n      <td>11793278</td>\n      <td>209952000</td>\n      <td>2020-03-22 02:30:29</td>\n      <td>50.387083</td>\n      <td>-0.521268</td>\n      <td>233.0</td>\n      <td>23.2</td>\n      <td>Under way using engine</td>\n      <td>DUBLIN</td>\n      <td>Passenger</td>\n    </tr>\n    <tr>\n      <th>19733</th>\n      <td>11794339</td>\n      <td>209952000</td>\n      <td>2020-03-22 02:35:49</td>\n      <td>50.372903</td>\n      <td>-0.569853</td>\n      <td>257.0</td>\n      <td>23.0</td>\n      <td>Under way using engine</td>\n      <td>DUBLIN</td>\n      <td>Passenger</td>\n    </tr>\n    <tr>\n      <th>19734</th>\n      <td>11795546</td>\n      <td>209952000</td>\n      <td>2020-03-22 02:40:29</td>\n      <td>50.367902</td>\n      <td>-0.616153</td>\n      <td>262.0</td>\n      <td>23.2</td>\n      <td>Under way using engine</td>\n      <td>DUBLIN</td>\n      <td>Passenger</td>\n    </tr>\n    <tr>\n      <th>19735</th>\n      <td>11796673</td>\n      <td>209952000</td>\n      <td>2020-03-22 02:45:49</td>\n      <td>50.362618</td>\n      <td>-0.669155</td>\n      <td>262.0</td>\n      <td>23.2</td>\n      <td>Under way using engine</td>\n      <td>DUBLIN</td>\n      <td>Passenger</td>\n    </tr>\n    <tr>\n      <th>19736</th>\n      <td>11797891</td>\n      <td>209952000</td>\n      <td>2020-03-22 02:50:30</td>\n      <td>50.358125</td>\n      <td>-0.715908</td>\n      <td>262.0</td>\n      <td>23.3</td>\n      <td>Under way using engine</td>\n      <td>DUBLIN</td>\n      <td>Passenger</td>\n    </tr>\n  </tbody>\n</table>\n</div>"
          },
          "metadata": {}
        }
      ],
      "execution_count": 53,
      "metadata": {
        "jupyter": {
          "source_hidden": false,
          "outputs_hidden": false
        },
        "nteract": {
          "transient": {
            "deleting": false
          }
        },
        "gather": {
          "logged": 1643023767238
        }
      }
    },
    {
      "cell_type": "code",
      "source": [
        "# select Law Enforcement from ais_reporting_rates\r\n",
        "select_law_enforcement = ais_reporting_rates.loc[ais_reporting_rates[\"vessel_type\"] == 'Law Enforcement']\r\n",
        "select_law_enforcement.head()"
      ],
      "outputs": [
        {
          "output_type": "execute_result",
          "execution_count": 54,
          "data": {
            "text/plain": "       message_id       mmsi  message_time_stamp        lat       lon  \\\n57729      612858  227800900 2020-02-12 13:33:42  50.444643 -0.756473   \n57730      614256  227800900 2020-02-12 13:38:28  50.436553 -0.764735   \n57731      615524  227800900 2020-02-12 13:43:47  50.427315 -0.773625   \n57732      616858  227800900 2020-02-12 13:48:26  50.419360 -0.781303   \n57733      618166  227800900 2020-02-12 13:53:42  50.410163 -0.790302   \n\n       heading  sog                  status destination      vessel_type  \n57729    234.0  8.3  Under way using engine        None  Law Enforcement  \n57730    217.0  8.2  Under way using engine        None  Law Enforcement  \n57731    211.0  6.5  Under way using engine        None  Law Enforcement  \n57732    227.0  6.2  Under way using engine        None  Law Enforcement  \n57733    223.0  8.2  Under way using engine        None  Law Enforcement  ",
            "text/html": "<div>\n<style scoped>\n    .dataframe tbody tr th:only-of-type {\n        vertical-align: middle;\n    }\n\n    .dataframe tbody tr th {\n        vertical-align: top;\n    }\n\n    .dataframe thead th {\n        text-align: right;\n    }\n</style>\n<table border=\"1\" class=\"dataframe\">\n  <thead>\n    <tr style=\"text-align: right;\">\n      <th></th>\n      <th>message_id</th>\n      <th>mmsi</th>\n      <th>message_time_stamp</th>\n      <th>lat</th>\n      <th>lon</th>\n      <th>heading</th>\n      <th>sog</th>\n      <th>status</th>\n      <th>destination</th>\n      <th>vessel_type</th>\n    </tr>\n  </thead>\n  <tbody>\n    <tr>\n      <th>57729</th>\n      <td>612858</td>\n      <td>227800900</td>\n      <td>2020-02-12 13:33:42</td>\n      <td>50.444643</td>\n      <td>-0.756473</td>\n      <td>234.0</td>\n      <td>8.3</td>\n      <td>Under way using engine</td>\n      <td>None</td>\n      <td>Law Enforcement</td>\n    </tr>\n    <tr>\n      <th>57730</th>\n      <td>614256</td>\n      <td>227800900</td>\n      <td>2020-02-12 13:38:28</td>\n      <td>50.436553</td>\n      <td>-0.764735</td>\n      <td>217.0</td>\n      <td>8.2</td>\n      <td>Under way using engine</td>\n      <td>None</td>\n      <td>Law Enforcement</td>\n    </tr>\n    <tr>\n      <th>57731</th>\n      <td>615524</td>\n      <td>227800900</td>\n      <td>2020-02-12 13:43:47</td>\n      <td>50.427315</td>\n      <td>-0.773625</td>\n      <td>211.0</td>\n      <td>6.5</td>\n      <td>Under way using engine</td>\n      <td>None</td>\n      <td>Law Enforcement</td>\n    </tr>\n    <tr>\n      <th>57732</th>\n      <td>616858</td>\n      <td>227800900</td>\n      <td>2020-02-12 13:48:26</td>\n      <td>50.419360</td>\n      <td>-0.781303</td>\n      <td>227.0</td>\n      <td>6.2</td>\n      <td>Under way using engine</td>\n      <td>None</td>\n      <td>Law Enforcement</td>\n    </tr>\n    <tr>\n      <th>57733</th>\n      <td>618166</td>\n      <td>227800900</td>\n      <td>2020-02-12 13:53:42</td>\n      <td>50.410163</td>\n      <td>-0.790302</td>\n      <td>223.0</td>\n      <td>8.2</td>\n      <td>Under way using engine</td>\n      <td>None</td>\n      <td>Law Enforcement</td>\n    </tr>\n  </tbody>\n</table>\n</div>"
          },
          "metadata": {}
        }
      ],
      "execution_count": 54,
      "metadata": {
        "jupyter": {
          "source_hidden": false,
          "outputs_hidden": false
        },
        "nteract": {
          "transient": {
            "deleting": false
          }
        },
        "gather": {
          "logged": 1643023770043
        }
      }
    },
    {
      "cell_type": "code",
      "source": [
        "# select High Speed Craft from ais_reporting_rates\r\n",
        "select_high_speed_craft = ais_reporting_rates.loc[ais_reporting_rates[\"vessel_type\"] == 'High Speed Craft']\r\n",
        "select_high_speed_craft.head()"
      ],
      "outputs": [
        {
          "output_type": "execute_result",
          "execution_count": 55,
          "data": {
            "text/plain": "       message_id       mmsi  message_time_stamp        lat       lon  \\\n60667     4732051  228251700 2020-02-26 14:44:11  50.414837 -0.975273   \n60668     4733412  228251700 2020-02-26 14:48:49  50.391033 -1.012040   \n60669     4734615  228251700 2020-02-26 14:54:10  50.363667 -1.053755   \n60670     4735906  228251700 2020-02-26 14:58:49  50.340677 -1.089478   \n60671     4737134  228251700 2020-02-26 15:04:16  50.313250 -1.129913   \n\n       heading   sog             status destination       vessel_type  \n60667    221.8  29.7  Under way sailing     HORIZON  High Speed Craft  \n60668    221.1  28.6  Under way sailing     HORIZON  High Speed Craft  \n60669    222.3  27.3  Under way sailing     HORIZON  High Speed Craft  \n60670    218.1  28.5  Under way sailing     HORIZON  High Speed Craft  \n60671    222.6  26.3  Under way sailing     HORIZON  High Speed Craft  ",
            "text/html": "<div>\n<style scoped>\n    .dataframe tbody tr th:only-of-type {\n        vertical-align: middle;\n    }\n\n    .dataframe tbody tr th {\n        vertical-align: top;\n    }\n\n    .dataframe thead th {\n        text-align: right;\n    }\n</style>\n<table border=\"1\" class=\"dataframe\">\n  <thead>\n    <tr style=\"text-align: right;\">\n      <th></th>\n      <th>message_id</th>\n      <th>mmsi</th>\n      <th>message_time_stamp</th>\n      <th>lat</th>\n      <th>lon</th>\n      <th>heading</th>\n      <th>sog</th>\n      <th>status</th>\n      <th>destination</th>\n      <th>vessel_type</th>\n    </tr>\n  </thead>\n  <tbody>\n    <tr>\n      <th>60667</th>\n      <td>4732051</td>\n      <td>228251700</td>\n      <td>2020-02-26 14:44:11</td>\n      <td>50.414837</td>\n      <td>-0.975273</td>\n      <td>221.8</td>\n      <td>29.7</td>\n      <td>Under way sailing</td>\n      <td>HORIZON</td>\n      <td>High Speed Craft</td>\n    </tr>\n    <tr>\n      <th>60668</th>\n      <td>4733412</td>\n      <td>228251700</td>\n      <td>2020-02-26 14:48:49</td>\n      <td>50.391033</td>\n      <td>-1.012040</td>\n      <td>221.1</td>\n      <td>28.6</td>\n      <td>Under way sailing</td>\n      <td>HORIZON</td>\n      <td>High Speed Craft</td>\n    </tr>\n    <tr>\n      <th>60669</th>\n      <td>4734615</td>\n      <td>228251700</td>\n      <td>2020-02-26 14:54:10</td>\n      <td>50.363667</td>\n      <td>-1.053755</td>\n      <td>222.3</td>\n      <td>27.3</td>\n      <td>Under way sailing</td>\n      <td>HORIZON</td>\n      <td>High Speed Craft</td>\n    </tr>\n    <tr>\n      <th>60670</th>\n      <td>4735906</td>\n      <td>228251700</td>\n      <td>2020-02-26 14:58:49</td>\n      <td>50.340677</td>\n      <td>-1.089478</td>\n      <td>218.1</td>\n      <td>28.5</td>\n      <td>Under way sailing</td>\n      <td>HORIZON</td>\n      <td>High Speed Craft</td>\n    </tr>\n    <tr>\n      <th>60671</th>\n      <td>4737134</td>\n      <td>228251700</td>\n      <td>2020-02-26 15:04:16</td>\n      <td>50.313250</td>\n      <td>-1.129913</td>\n      <td>222.6</td>\n      <td>26.3</td>\n      <td>Under way sailing</td>\n      <td>HORIZON</td>\n      <td>High Speed Craft</td>\n    </tr>\n  </tbody>\n</table>\n</div>"
          },
          "metadata": {}
        }
      ],
      "execution_count": 55,
      "metadata": {
        "jupyter": {
          "source_hidden": false,
          "outputs_hidden": false
        },
        "nteract": {
          "transient": {
            "deleting": false
          }
        },
        "gather": {
          "logged": 1643023773153
        }
      }
    },
    {
      "cell_type": "code",
      "source": [
        "# select Wing In Ground-effect from ais_reporting_rates\r\n",
        "select_wing_in_ground_effect = ais_reporting_rates.loc[ais_reporting_rates[\"vessel_type\"] == 'Wing In Ground-effect']\r\n",
        "select_wing_in_ground_effect.head()"
      ],
      "outputs": [
        {
          "output_type": "execute_result",
          "execution_count": 56,
          "data": {
            "text/plain": "       message_id       mmsi  message_time_stamp        lat       lon  \\\n16537    11275438  209414000 2020-03-20 04:26:29  50.424288 -0.584878   \n16538    11276412  209414000 2020-03-20 04:32:28  50.420297 -0.606597   \n16539    11277641  209414000 2020-03-20 04:37:48  50.416872 -0.626012   \n16540    11278856  209414000 2020-03-20 04:42:29  50.413883 -0.643017   \n16541    11280005  209414000 2020-03-20 04:46:29  50.411335 -0.657427   \n\n       heading  sog                  status destination            vessel_type  \n16537    254.0  8.7  Under way using engine      GB PTL  Wing In Ground-effect  \n16538    253.0  8.6  Under way using engine      GB PTL  Wing In Ground-effect  \n16539    254.0  8.6  Under way using engine      GB PTL  Wing In Ground-effect  \n16540    254.0  8.5  Under way using engine      GB PTL  Wing In Ground-effect  \n16541    254.0  8.5  Under way using engine      GB PTL  Wing In Ground-effect  ",
            "text/html": "<div>\n<style scoped>\n    .dataframe tbody tr th:only-of-type {\n        vertical-align: middle;\n    }\n\n    .dataframe tbody tr th {\n        vertical-align: top;\n    }\n\n    .dataframe thead th {\n        text-align: right;\n    }\n</style>\n<table border=\"1\" class=\"dataframe\">\n  <thead>\n    <tr style=\"text-align: right;\">\n      <th></th>\n      <th>message_id</th>\n      <th>mmsi</th>\n      <th>message_time_stamp</th>\n      <th>lat</th>\n      <th>lon</th>\n      <th>heading</th>\n      <th>sog</th>\n      <th>status</th>\n      <th>destination</th>\n      <th>vessel_type</th>\n    </tr>\n  </thead>\n  <tbody>\n    <tr>\n      <th>16537</th>\n      <td>11275438</td>\n      <td>209414000</td>\n      <td>2020-03-20 04:26:29</td>\n      <td>50.424288</td>\n      <td>-0.584878</td>\n      <td>254.0</td>\n      <td>8.7</td>\n      <td>Under way using engine</td>\n      <td>GB PTL</td>\n      <td>Wing In Ground-effect</td>\n    </tr>\n    <tr>\n      <th>16538</th>\n      <td>11276412</td>\n      <td>209414000</td>\n      <td>2020-03-20 04:32:28</td>\n      <td>50.420297</td>\n      <td>-0.606597</td>\n      <td>253.0</td>\n      <td>8.6</td>\n      <td>Under way using engine</td>\n      <td>GB PTL</td>\n      <td>Wing In Ground-effect</td>\n    </tr>\n    <tr>\n      <th>16539</th>\n      <td>11277641</td>\n      <td>209414000</td>\n      <td>2020-03-20 04:37:48</td>\n      <td>50.416872</td>\n      <td>-0.626012</td>\n      <td>254.0</td>\n      <td>8.6</td>\n      <td>Under way using engine</td>\n      <td>GB PTL</td>\n      <td>Wing In Ground-effect</td>\n    </tr>\n    <tr>\n      <th>16540</th>\n      <td>11278856</td>\n      <td>209414000</td>\n      <td>2020-03-20 04:42:29</td>\n      <td>50.413883</td>\n      <td>-0.643017</td>\n      <td>254.0</td>\n      <td>8.5</td>\n      <td>Under way using engine</td>\n      <td>GB PTL</td>\n      <td>Wing In Ground-effect</td>\n    </tr>\n    <tr>\n      <th>16541</th>\n      <td>11280005</td>\n      <td>209414000</td>\n      <td>2020-03-20 04:46:29</td>\n      <td>50.411335</td>\n      <td>-0.657427</td>\n      <td>254.0</td>\n      <td>8.5</td>\n      <td>Under way using engine</td>\n      <td>GB PTL</td>\n      <td>Wing In Ground-effect</td>\n    </tr>\n  </tbody>\n</table>\n</div>"
          },
          "metadata": {}
        }
      ],
      "execution_count": 56,
      "metadata": {
        "jupyter": {
          "source_hidden": false,
          "outputs_hidden": false
        },
        "nteract": {
          "transient": {
            "deleting": false
          }
        },
        "gather": {
          "logged": 1643023776041
        }
      }
    },
    {
      "cell_type": "code",
      "source": [
        "# select N/A from ais_reporting_rates\r\n",
        "select_not_available = ais_reporting_rates.loc[ais_reporting_rates[\"vessel_type\"] == 'N/A']\r\n",
        "select_not_available.head()"
      ],
      "outputs": [
        {
          "output_type": "execute_result",
          "execution_count": 57,
          "data": {
            "text/plain": "   message_id      mmsi  message_time_stamp        lat       lon  heading  \\\n0     9428086  11223344 2020-03-12 17:21:26  50.423552 -0.580688    254.0   \n1     9429453  11223344 2020-03-12 17:26:44  50.419567 -0.609708    260.0   \n2     9430776  11223344 2020-03-12 17:31:22  50.416072 -0.635027    260.0   \n3     9432046  11223344 2020-03-12 17:36:45  50.411950 -0.664525    260.0   \n4     9433162  11223344 2020-03-12 17:42:02  50.407778 -0.693447    260.0   \n\n    sog                  status destination vessel_type  \n0  12.7  Under way using engine        None         N/A  \n1  12.6  Under way using engine        None         N/A  \n2  13.1  Under way using engine        None         N/A  \n3  13.0  Under way using engine        None         N/A  \n4  13.0  Under way using engine        None         N/A  ",
            "text/html": "<div>\n<style scoped>\n    .dataframe tbody tr th:only-of-type {\n        vertical-align: middle;\n    }\n\n    .dataframe tbody tr th {\n        vertical-align: top;\n    }\n\n    .dataframe thead th {\n        text-align: right;\n    }\n</style>\n<table border=\"1\" class=\"dataframe\">\n  <thead>\n    <tr style=\"text-align: right;\">\n      <th></th>\n      <th>message_id</th>\n      <th>mmsi</th>\n      <th>message_time_stamp</th>\n      <th>lat</th>\n      <th>lon</th>\n      <th>heading</th>\n      <th>sog</th>\n      <th>status</th>\n      <th>destination</th>\n      <th>vessel_type</th>\n    </tr>\n  </thead>\n  <tbody>\n    <tr>\n      <th>0</th>\n      <td>9428086</td>\n      <td>11223344</td>\n      <td>2020-03-12 17:21:26</td>\n      <td>50.423552</td>\n      <td>-0.580688</td>\n      <td>254.0</td>\n      <td>12.7</td>\n      <td>Under way using engine</td>\n      <td>None</td>\n      <td>N/A</td>\n    </tr>\n    <tr>\n      <th>1</th>\n      <td>9429453</td>\n      <td>11223344</td>\n      <td>2020-03-12 17:26:44</td>\n      <td>50.419567</td>\n      <td>-0.609708</td>\n      <td>260.0</td>\n      <td>12.6</td>\n      <td>Under way using engine</td>\n      <td>None</td>\n      <td>N/A</td>\n    </tr>\n    <tr>\n      <th>2</th>\n      <td>9430776</td>\n      <td>11223344</td>\n      <td>2020-03-12 17:31:22</td>\n      <td>50.416072</td>\n      <td>-0.635027</td>\n      <td>260.0</td>\n      <td>13.1</td>\n      <td>Under way using engine</td>\n      <td>None</td>\n      <td>N/A</td>\n    </tr>\n    <tr>\n      <th>3</th>\n      <td>9432046</td>\n      <td>11223344</td>\n      <td>2020-03-12 17:36:45</td>\n      <td>50.411950</td>\n      <td>-0.664525</td>\n      <td>260.0</td>\n      <td>13.0</td>\n      <td>Under way using engine</td>\n      <td>None</td>\n      <td>N/A</td>\n    </tr>\n    <tr>\n      <th>4</th>\n      <td>9433162</td>\n      <td>11223344</td>\n      <td>2020-03-12 17:42:02</td>\n      <td>50.407778</td>\n      <td>-0.693447</td>\n      <td>260.0</td>\n      <td>13.0</td>\n      <td>Under way using engine</td>\n      <td>None</td>\n      <td>N/A</td>\n    </tr>\n  </tbody>\n</table>\n</div>"
          },
          "metadata": {}
        }
      ],
      "execution_count": 57,
      "metadata": {
        "jupyter": {
          "source_hidden": false,
          "outputs_hidden": false
        },
        "nteract": {
          "transient": {
            "deleting": false
          }
        },
        "gather": {
          "logged": 1643023779074
        }
      }
    },
    {
      "cell_type": "code",
      "source": [
        "select_tug = ais_reporting_rates.loc[ais_reporting_rates[\"vessel_type\"] == 'Tug']\r\n",
        "select_tug.head()"
      ],
      "outputs": [
        {
          "output_type": "execute_result",
          "execution_count": 58,
          "data": {
            "text/plain": "       message_id       mmsi  message_time_stamp        lat       lon  \\\n42185     4872600  220581000 2020-02-27 01:29:26  50.060955 -1.482018   \n42186     4873678  220581000 2020-02-27 01:34:16  50.063183 -1.471420   \n42187     4874733  220581000 2020-02-27 01:39:36  50.065442 -1.460170   \n42188     4875898  220581000 2020-02-27 01:44:45  50.067558 -1.449750   \n42189     4877085  220581000 2020-02-27 01:49:35  50.069582 -1.439963   \n\n       heading  sog                  status destination vessel_type  \n42185     76.0  5.4  Under way using engine      DK EBJ         Tug  \n42186     77.0  5.2  Under way using engine      DK EBJ         Tug  \n42187     79.0  4.9  Under way using engine      DK EBJ         Tug  \n42188     80.0  4.8  Under way using engine      DK EBJ         Tug  \n42189     80.0  4.9  Under way using engine      DK EBJ         Tug  ",
            "text/html": "<div>\n<style scoped>\n    .dataframe tbody tr th:only-of-type {\n        vertical-align: middle;\n    }\n\n    .dataframe tbody tr th {\n        vertical-align: top;\n    }\n\n    .dataframe thead th {\n        text-align: right;\n    }\n</style>\n<table border=\"1\" class=\"dataframe\">\n  <thead>\n    <tr style=\"text-align: right;\">\n      <th></th>\n      <th>message_id</th>\n      <th>mmsi</th>\n      <th>message_time_stamp</th>\n      <th>lat</th>\n      <th>lon</th>\n      <th>heading</th>\n      <th>sog</th>\n      <th>status</th>\n      <th>destination</th>\n      <th>vessel_type</th>\n    </tr>\n  </thead>\n  <tbody>\n    <tr>\n      <th>42185</th>\n      <td>4872600</td>\n      <td>220581000</td>\n      <td>2020-02-27 01:29:26</td>\n      <td>50.060955</td>\n      <td>-1.482018</td>\n      <td>76.0</td>\n      <td>5.4</td>\n      <td>Under way using engine</td>\n      <td>DK EBJ</td>\n      <td>Tug</td>\n    </tr>\n    <tr>\n      <th>42186</th>\n      <td>4873678</td>\n      <td>220581000</td>\n      <td>2020-02-27 01:34:16</td>\n      <td>50.063183</td>\n      <td>-1.471420</td>\n      <td>77.0</td>\n      <td>5.2</td>\n      <td>Under way using engine</td>\n      <td>DK EBJ</td>\n      <td>Tug</td>\n    </tr>\n    <tr>\n      <th>42187</th>\n      <td>4874733</td>\n      <td>220581000</td>\n      <td>2020-02-27 01:39:36</td>\n      <td>50.065442</td>\n      <td>-1.460170</td>\n      <td>79.0</td>\n      <td>4.9</td>\n      <td>Under way using engine</td>\n      <td>DK EBJ</td>\n      <td>Tug</td>\n    </tr>\n    <tr>\n      <th>42188</th>\n      <td>4875898</td>\n      <td>220581000</td>\n      <td>2020-02-27 01:44:45</td>\n      <td>50.067558</td>\n      <td>-1.449750</td>\n      <td>80.0</td>\n      <td>4.8</td>\n      <td>Under way using engine</td>\n      <td>DK EBJ</td>\n      <td>Tug</td>\n    </tr>\n    <tr>\n      <th>42189</th>\n      <td>4877085</td>\n      <td>220581000</td>\n      <td>2020-02-27 01:49:35</td>\n      <td>50.069582</td>\n      <td>-1.439963</td>\n      <td>80.0</td>\n      <td>4.9</td>\n      <td>Under way using engine</td>\n      <td>DK EBJ</td>\n      <td>Tug</td>\n    </tr>\n  </tbody>\n</table>\n</div>"
          },
          "metadata": {}
        }
      ],
      "execution_count": 58,
      "metadata": {
        "jupyter": {
          "source_hidden": false,
          "outputs_hidden": false
        },
        "nteract": {
          "transient": {
            "deleting": false
          }
        },
        "gather": {
          "logged": 1643023782095
        }
      }
    },
    {
      "cell_type": "code",
      "source": [
        "import pandas as pd\r\n",
        "import matplotlib.pyplot as plt\r\n",
        "from six.moves import urllib\r\n",
        "import zipfile\r\n",
        "from scipy import stats\r\n",
        "\r\n",
        "plt.hist(ais_reporting_rates['sog'], bins=50)\r\n",
        "plt.show()"
      ],
      "outputs": [
        {
          "output_type": "display_data",
          "data": {
            "text/plain": "<Figure size 432x288 with 1 Axes>",
            "image/png": "[encoded data removed]"
          },
          "metadata": {
            "needs_background": "light"
          }
        }
      ],
      "execution_count": 60,
      "metadata": {
        "jupyter": {
          "source_hidden": false,
          "outputs_hidden": false
        },
        "nteract": {
          "transient": {
            "deleting": false
          }
        },
        "gather": {
          "logged": 1643023930488
        }
      }
    },
    {
      "cell_type": "code",
      "source": [
        "import pandas as pd\r\n",
        "import matplotlib.pyplot as plt\r\n",
        "from six.moves import urllib\r\n",
        "import zipfile\r\n",
        "from scipy import stats\r\n",
        "\r\n",
        "plt.hist(ais_reporting_rates['vessel_type'], bins=50)\r\n",
        "plt.show()"
      ],
      "outputs": [
        {
          "output_type": "display_data",
          "data": {
            "text/plain": "<Figure size 432x288 with 1 Axes>",
            "image/png": "[encoded data removed]"
          },
          "metadata": {
            "needs_background": "light"
          }
        }
      ],
      "execution_count": 65,
      "metadata": {
        "jupyter": {
          "source_hidden": false,
          "outputs_hidden": false
        },
        "nteract": {
          "transient": {
            "deleting": false
          }
        },
        "gather": {
          "logged": 1643024082466
        }
      }
    },
    {
      "cell_type": "code",
      "source": [
        "import pandas as pd\r\n",
        "import matplotlib.pyplot as plt\r\n",
        "from six.moves import urllib\r\n",
        "import zipfile\r\n",
        "from scipy import stats\r\n",
        "\r\n",
        "select_tug = ais_reporting_rates.loc[ais_reporting_rates[\"vessel_type\"] == 'Tug']\r\n",
        "select_tug.head()"
      ],
      "outputs": [
        {
          "output_type": "execute_result",
          "execution_count": 61,
          "data": {
            "text/plain": "       message_id       mmsi  message_time_stamp        lat       lon  \\\n42185     4872600  220581000 2020-02-27 01:29:26  50.060955 -1.482018   \n42186     4873678  220581000 2020-02-27 01:34:16  50.063183 -1.471420   \n42187     4874733  220581000 2020-02-27 01:39:36  50.065442 -1.460170   \n42188     4875898  220581000 2020-02-27 01:44:45  50.067558 -1.449750   \n42189     4877085  220581000 2020-02-27 01:49:35  50.069582 -1.439963   \n\n       heading  sog                  status destination vessel_type  \n42185     76.0  5.4  Under way using engine      DK EBJ         Tug  \n42186     77.0  5.2  Under way using engine      DK EBJ         Tug  \n42187     79.0  4.9  Under way using engine      DK EBJ         Tug  \n42188     80.0  4.8  Under way using engine      DK EBJ         Tug  \n42189     80.0  4.9  Under way using engine      DK EBJ         Tug  ",
            "text/html": "<div>\n<style scoped>\n    .dataframe tbody tr th:only-of-type {\n        vertical-align: middle;\n    }\n\n    .dataframe tbody tr th {\n        vertical-align: top;\n    }\n\n    .dataframe thead th {\n        text-align: right;\n    }\n</style>\n<table border=\"1\" class=\"dataframe\">\n  <thead>\n    <tr style=\"text-align: right;\">\n      <th></th>\n      <th>message_id</th>\n      <th>mmsi</th>\n      <th>message_time_stamp</th>\n      <th>lat</th>\n      <th>lon</th>\n      <th>heading</th>\n      <th>sog</th>\n      <th>status</th>\n      <th>destination</th>\n      <th>vessel_type</th>\n    </tr>\n  </thead>\n  <tbody>\n    <tr>\n      <th>42185</th>\n      <td>4872600</td>\n      <td>220581000</td>\n      <td>2020-02-27 01:29:26</td>\n      <td>50.060955</td>\n      <td>-1.482018</td>\n      <td>76.0</td>\n      <td>5.4</td>\n      <td>Under way using engine</td>\n      <td>DK EBJ</td>\n      <td>Tug</td>\n    </tr>\n    <tr>\n      <th>42186</th>\n      <td>4873678</td>\n      <td>220581000</td>\n      <td>2020-02-27 01:34:16</td>\n      <td>50.063183</td>\n      <td>-1.471420</td>\n      <td>77.0</td>\n      <td>5.2</td>\n      <td>Under way using engine</td>\n      <td>DK EBJ</td>\n      <td>Tug</td>\n    </tr>\n    <tr>\n      <th>42187</th>\n      <td>4874733</td>\n      <td>220581000</td>\n      <td>2020-02-27 01:39:36</td>\n      <td>50.065442</td>\n      <td>-1.460170</td>\n      <td>79.0</td>\n      <td>4.9</td>\n      <td>Under way using engine</td>\n      <td>DK EBJ</td>\n      <td>Tug</td>\n    </tr>\n    <tr>\n      <th>42188</th>\n      <td>4875898</td>\n      <td>220581000</td>\n      <td>2020-02-27 01:44:45</td>\n      <td>50.067558</td>\n      <td>-1.449750</td>\n      <td>80.0</td>\n      <td>4.8</td>\n      <td>Under way using engine</td>\n      <td>DK EBJ</td>\n      <td>Tug</td>\n    </tr>\n    <tr>\n      <th>42189</th>\n      <td>4877085</td>\n      <td>220581000</td>\n      <td>2020-02-27 01:49:35</td>\n      <td>50.069582</td>\n      <td>-1.439963</td>\n      <td>80.0</td>\n      <td>4.9</td>\n      <td>Under way using engine</td>\n      <td>DK EBJ</td>\n      <td>Tug</td>\n    </tr>\n  </tbody>\n</table>\n</div>"
          },
          "metadata": {}
        }
      ],
      "execution_count": 61,
      "metadata": {
        "jupyter": {
          "source_hidden": false,
          "outputs_hidden": false
        },
        "nteract": {
          "transient": {
            "deleting": false
          }
        },
        "gather": {
          "logged": 1643023950758
        }
      }
    },
    {
      "cell_type": "code",
      "source": [
        "import pandas as pd\r\n",
        "import matplotlib.pyplot as plt\r\n",
        "from six.moves import urllib\r\n",
        "import zipfile\r\n",
        "from scipy import stats\r\n",
        "\r\n",
        "#plt.hist(select_tug)\r\n",
        "#plt.show()\r\n",
        "\r\n",
        "plt.hist(select_tug, density=False, bins=30)  # density=False would make counts\r\n",
        "plt.ylabel('Probability')\r\n",
        "plt.xlabel('tug');"
      ],
      "outputs": [
        {
          "output_type": "error",
          "ename": "TypeError",
          "evalue": "'<=' not supported between instances of 'int' and 'Timestamp'",
          "traceback": [
            "\u001b[0;31m---------------------------------------------------------------------------\u001b[0m",
            "\u001b[0;31mTypeError\u001b[0m                                 Traceback (most recent call last)",
            "\u001b[0;32m<ipython-input-64-d085ca116633>\u001b[0m in \u001b[0;36m<module>\u001b[0;34m\u001b[0m\n\u001b[1;32m      8\u001b[0m \u001b[0;31m#plt.show()\u001b[0m\u001b[0;34m\u001b[0m\u001b[0;34m\u001b[0m\u001b[0;34m\u001b[0m\u001b[0m\n\u001b[1;32m      9\u001b[0m \u001b[0;34m\u001b[0m\u001b[0m\n\u001b[0;32m---> 10\u001b[0;31m \u001b[0mplt\u001b[0m\u001b[0;34m.\u001b[0m\u001b[0mhist\u001b[0m\u001b[0;34m(\u001b[0m\u001b[0mselect_tug\u001b[0m\u001b[0;34m,\u001b[0m \u001b[0mdensity\u001b[0m\u001b[0;34m=\u001b[0m\u001b[0;32mFalse\u001b[0m\u001b[0;34m,\u001b[0m \u001b[0mbins\u001b[0m\u001b[0;34m=\u001b[0m\u001b[0;36m30\u001b[0m\u001b[0;34m)\u001b[0m  \u001b[0;31m# density=False would make counts\u001b[0m\u001b[0;34m\u001b[0m\u001b[0;34m\u001b[0m\u001b[0m\n\u001b[0m\u001b[1;32m     11\u001b[0m \u001b[0mplt\u001b[0m\u001b[0;34m.\u001b[0m\u001b[0mylabel\u001b[0m\u001b[0;34m(\u001b[0m\u001b[0;34m'Probability'\u001b[0m\u001b[0;34m)\u001b[0m\u001b[0;34m\u001b[0m\u001b[0;34m\u001b[0m\u001b[0m\n\u001b[1;32m     12\u001b[0m \u001b[0mplt\u001b[0m\u001b[0;34m.\u001b[0m\u001b[0mxlabel\u001b[0m\u001b[0;34m(\u001b[0m\u001b[0;34m'tug'\u001b[0m\u001b[0;34m)\u001b[0m\u001b[0;34m;\u001b[0m\u001b[0;34m\u001b[0m\u001b[0;34m\u001b[0m\u001b[0m\n",
            "\u001b[0;32m/anaconda/envs/azureml_py36/lib/python3.6/site-packages/matplotlib/pyplot.py\u001b[0m in \u001b[0;36mhist\u001b[0;34m(x, bins, range, density, weights, cumulative, bottom, histtype, align, orientation, rwidth, log, color, label, stacked, data, **kwargs)\u001b[0m\n\u001b[1;32m   2608\u001b[0m         \u001b[0malign\u001b[0m\u001b[0;34m=\u001b[0m\u001b[0malign\u001b[0m\u001b[0;34m,\u001b[0m \u001b[0morientation\u001b[0m\u001b[0;34m=\u001b[0m\u001b[0morientation\u001b[0m\u001b[0;34m,\u001b[0m \u001b[0mrwidth\u001b[0m\u001b[0;34m=\u001b[0m\u001b[0mrwidth\u001b[0m\u001b[0;34m,\u001b[0m \u001b[0mlog\u001b[0m\u001b[0;34m=\u001b[0m\u001b[0mlog\u001b[0m\u001b[0;34m,\u001b[0m\u001b[0;34m\u001b[0m\u001b[0;34m\u001b[0m\u001b[0m\n\u001b[1;32m   2609\u001b[0m         color=color, label=label, stacked=stacked, **({\"data\": data}\n\u001b[0;32m-> 2610\u001b[0;31m         if data is not None else {}), **kwargs)\n\u001b[0m\u001b[1;32m   2611\u001b[0m \u001b[0;34m\u001b[0m\u001b[0m\n\u001b[1;32m   2612\u001b[0m \u001b[0;34m\u001b[0m\u001b[0m\n",
            "\u001b[0;32m/anaconda/envs/azureml_py36/lib/python3.6/site-packages/matplotlib/__init__.py\u001b[0m in \u001b[0;36minner\u001b[0;34m(ax, data, *args, **kwargs)\u001b[0m\n\u001b[1;32m   1563\u001b[0m     \u001b[0;32mdef\u001b[0m \u001b[0minner\u001b[0m\u001b[0;34m(\u001b[0m\u001b[0max\u001b[0m\u001b[0;34m,\u001b[0m \u001b[0;34m*\u001b[0m\u001b[0margs\u001b[0m\u001b[0;34m,\u001b[0m \u001b[0mdata\u001b[0m\u001b[0;34m=\u001b[0m\u001b[0;32mNone\u001b[0m\u001b[0;34m,\u001b[0m \u001b[0;34m**\u001b[0m\u001b[0mkwargs\u001b[0m\u001b[0;34m)\u001b[0m\u001b[0;34m:\u001b[0m\u001b[0;34m\u001b[0m\u001b[0;34m\u001b[0m\u001b[0m\n\u001b[1;32m   1564\u001b[0m         \u001b[0;32mif\u001b[0m \u001b[0mdata\u001b[0m \u001b[0;32mis\u001b[0m \u001b[0;32mNone\u001b[0m\u001b[0;34m:\u001b[0m\u001b[0;34m\u001b[0m\u001b[0;34m\u001b[0m\u001b[0m\n\u001b[0;32m-> 1565\u001b[0;31m             \u001b[0;32mreturn\u001b[0m \u001b[0mfunc\u001b[0m\u001b[0;34m(\u001b[0m\u001b[0max\u001b[0m\u001b[0;34m,\u001b[0m \u001b[0;34m*\u001b[0m\u001b[0mmap\u001b[0m\u001b[0;34m(\u001b[0m\u001b[0msanitize_sequence\u001b[0m\u001b[0;34m,\u001b[0m \u001b[0margs\u001b[0m\u001b[0;34m)\u001b[0m\u001b[0;34m,\u001b[0m \u001b[0;34m**\u001b[0m\u001b[0mkwargs\u001b[0m\u001b[0;34m)\u001b[0m\u001b[0;34m\u001b[0m\u001b[0;34m\u001b[0m\u001b[0m\n\u001b[0m\u001b[1;32m   1566\u001b[0m \u001b[0;34m\u001b[0m\u001b[0m\n\u001b[1;32m   1567\u001b[0m         \u001b[0mbound\u001b[0m \u001b[0;34m=\u001b[0m \u001b[0mnew_sig\u001b[0m\u001b[0;34m.\u001b[0m\u001b[0mbind\u001b[0m\u001b[0;34m(\u001b[0m\u001b[0max\u001b[0m\u001b[0;34m,\u001b[0m \u001b[0;34m*\u001b[0m\u001b[0margs\u001b[0m\u001b[0;34m,\u001b[0m \u001b[0;34m**\u001b[0m\u001b[0mkwargs\u001b[0m\u001b[0;34m)\u001b[0m\u001b[0;34m\u001b[0m\u001b[0;34m\u001b[0m\u001b[0m\n",
            "\u001b[0;32m/anaconda/envs/azureml_py36/lib/python3.6/site-packages/matplotlib/axes/_axes.py\u001b[0m in \u001b[0;36mhist\u001b[0;34m(self, x, bins, range, density, weights, cumulative, bottom, histtype, align, orientation, rwidth, log, color, label, stacked, **kwargs)\u001b[0m\n\u001b[1;32m   6617\u001b[0m                     \u001b[0;31m# python's min/max ignore nan,\u001b[0m\u001b[0;34m\u001b[0m\u001b[0;34m\u001b[0m\u001b[0;34m\u001b[0m\u001b[0m\n\u001b[1;32m   6618\u001b[0m                     \u001b[0;31m# np.minnan returns nan for all nan input\u001b[0m\u001b[0;34m\u001b[0m\u001b[0;34m\u001b[0m\u001b[0;34m\u001b[0m\u001b[0m\n\u001b[0;32m-> 6619\u001b[0;31m                     \u001b[0mxmin\u001b[0m \u001b[0;34m=\u001b[0m \u001b[0mmin\u001b[0m\u001b[0;34m(\u001b[0m\u001b[0mxmin\u001b[0m\u001b[0;34m,\u001b[0m \u001b[0mnp\u001b[0m\u001b[0;34m.\u001b[0m\u001b[0mnanmin\u001b[0m\u001b[0;34m(\u001b[0m\u001b[0mxi\u001b[0m\u001b[0;34m)\u001b[0m\u001b[0;34m)\u001b[0m\u001b[0;34m\u001b[0m\u001b[0;34m\u001b[0m\u001b[0m\n\u001b[0m\u001b[1;32m   6620\u001b[0m                     \u001b[0mxmax\u001b[0m \u001b[0;34m=\u001b[0m \u001b[0mmax\u001b[0m\u001b[0;34m(\u001b[0m\u001b[0mxmax\u001b[0m\u001b[0;34m,\u001b[0m \u001b[0mnp\u001b[0m\u001b[0;34m.\u001b[0m\u001b[0mnanmax\u001b[0m\u001b[0;34m(\u001b[0m\u001b[0mxi\u001b[0m\u001b[0;34m)\u001b[0m\u001b[0;34m)\u001b[0m\u001b[0;34m\u001b[0m\u001b[0;34m\u001b[0m\u001b[0m\n\u001b[1;32m   6621\u001b[0m             \u001b[0;31m# make sure we have seen at least one non-nan and finite\u001b[0m\u001b[0;34m\u001b[0m\u001b[0;34m\u001b[0m\u001b[0;34m\u001b[0m\u001b[0m\n",
            "\u001b[0;32m<__array_function__ internals>\u001b[0m in \u001b[0;36mnanmin\u001b[0;34m(*args, **kwargs)\u001b[0m\n",
            "\u001b[0;32m/anaconda/envs/azureml_py36/lib/python3.6/site-packages/numpy/lib/nanfunctions.py\u001b[0m in \u001b[0;36mnanmin\u001b[0;34m(a, axis, out, keepdims)\u001b[0m\n\u001b[1;32m    326\u001b[0m         \u001b[0;31m# Slow, but safe for subclasses of ndarray\u001b[0m\u001b[0;34m\u001b[0m\u001b[0;34m\u001b[0m\u001b[0;34m\u001b[0m\u001b[0m\n\u001b[1;32m    327\u001b[0m         \u001b[0ma\u001b[0m\u001b[0;34m,\u001b[0m \u001b[0mmask\u001b[0m \u001b[0;34m=\u001b[0m \u001b[0m_replace_nan\u001b[0m\u001b[0;34m(\u001b[0m\u001b[0ma\u001b[0m\u001b[0;34m,\u001b[0m \u001b[0;34m+\u001b[0m\u001b[0mnp\u001b[0m\u001b[0;34m.\u001b[0m\u001b[0minf\u001b[0m\u001b[0;34m)\u001b[0m\u001b[0;34m\u001b[0m\u001b[0;34m\u001b[0m\u001b[0m\n\u001b[0;32m--> 328\u001b[0;31m         \u001b[0mres\u001b[0m \u001b[0;34m=\u001b[0m \u001b[0mnp\u001b[0m\u001b[0;34m.\u001b[0m\u001b[0mamin\u001b[0m\u001b[0;34m(\u001b[0m\u001b[0ma\u001b[0m\u001b[0;34m,\u001b[0m \u001b[0maxis\u001b[0m\u001b[0;34m=\u001b[0m\u001b[0maxis\u001b[0m\u001b[0;34m,\u001b[0m \u001b[0mout\u001b[0m\u001b[0;34m=\u001b[0m\u001b[0mout\u001b[0m\u001b[0;34m,\u001b[0m \u001b[0;34m**\u001b[0m\u001b[0mkwargs\u001b[0m\u001b[0;34m)\u001b[0m\u001b[0;34m\u001b[0m\u001b[0;34m\u001b[0m\u001b[0m\n\u001b[0m\u001b[1;32m    329\u001b[0m         \u001b[0;32mif\u001b[0m \u001b[0mmask\u001b[0m \u001b[0;32mis\u001b[0m \u001b[0;32mNone\u001b[0m\u001b[0;34m:\u001b[0m\u001b[0;34m\u001b[0m\u001b[0;34m\u001b[0m\u001b[0m\n\u001b[1;32m    330\u001b[0m             \u001b[0;32mreturn\u001b[0m \u001b[0mres\u001b[0m\u001b[0;34m\u001b[0m\u001b[0;34m\u001b[0m\u001b[0m\n",
            "\u001b[0;32m<__array_function__ internals>\u001b[0m in \u001b[0;36mamin\u001b[0;34m(*args, **kwargs)\u001b[0m\n",
            "\u001b[0;32m/anaconda/envs/azureml_py36/lib/python3.6/site-packages/numpy/core/fromnumeric.py\u001b[0m in \u001b[0;36mamin\u001b[0;34m(a, axis, out, keepdims, initial, where)\u001b[0m\n\u001b[1;32m   2791\u001b[0m     \"\"\"\n\u001b[1;32m   2792\u001b[0m     return _wrapreduction(a, np.minimum, 'min', axis, None, out,\n\u001b[0;32m-> 2793\u001b[0;31m                           keepdims=keepdims, initial=initial, where=where)\n\u001b[0m\u001b[1;32m   2794\u001b[0m \u001b[0;34m\u001b[0m\u001b[0m\n\u001b[1;32m   2795\u001b[0m \u001b[0;34m\u001b[0m\u001b[0m\n",
            "\u001b[0;32m/anaconda/envs/azureml_py36/lib/python3.6/site-packages/numpy/core/fromnumeric.py\u001b[0m in \u001b[0;36m_wrapreduction\u001b[0;34m(obj, ufunc, method, axis, dtype, out, **kwargs)\u001b[0m\n\u001b[1;32m     88\u001b[0m                 \u001b[0;32mreturn\u001b[0m \u001b[0mreduction\u001b[0m\u001b[0;34m(\u001b[0m\u001b[0maxis\u001b[0m\u001b[0;34m=\u001b[0m\u001b[0maxis\u001b[0m\u001b[0;34m,\u001b[0m \u001b[0mout\u001b[0m\u001b[0;34m=\u001b[0m\u001b[0mout\u001b[0m\u001b[0;34m,\u001b[0m \u001b[0;34m**\u001b[0m\u001b[0mpasskwargs\u001b[0m\u001b[0;34m)\u001b[0m\u001b[0;34m\u001b[0m\u001b[0;34m\u001b[0m\u001b[0m\n\u001b[1;32m     89\u001b[0m \u001b[0;34m\u001b[0m\u001b[0m\n\u001b[0;32m---> 90\u001b[0;31m     \u001b[0;32mreturn\u001b[0m \u001b[0mufunc\u001b[0m\u001b[0;34m.\u001b[0m\u001b[0mreduce\u001b[0m\u001b[0;34m(\u001b[0m\u001b[0mobj\u001b[0m\u001b[0;34m,\u001b[0m \u001b[0maxis\u001b[0m\u001b[0;34m,\u001b[0m \u001b[0mdtype\u001b[0m\u001b[0;34m,\u001b[0m \u001b[0mout\u001b[0m\u001b[0;34m,\u001b[0m \u001b[0;34m**\u001b[0m\u001b[0mpasskwargs\u001b[0m\u001b[0;34m)\u001b[0m\u001b[0;34m\u001b[0m\u001b[0;34m\u001b[0m\u001b[0m\n\u001b[0m\u001b[1;32m     91\u001b[0m \u001b[0;34m\u001b[0m\u001b[0m\n\u001b[1;32m     92\u001b[0m \u001b[0;34m\u001b[0m\u001b[0m\n",
            "\u001b[0;31mTypeError\u001b[0m: '<=' not supported between instances of 'int' and 'Timestamp'"
          ]
        }
      ],
      "execution_count": 64,
      "metadata": {
        "jupyter": {
          "source_hidden": false,
          "outputs_hidden": false
        },
        "nteract": {
          "transient": {
            "deleting": false
          }
        }
      }
    }
  ],
  "metadata": {
    "kernelspec": {
      "name": "python3-azureml",
      "language": "python",
      "display_name": "Python 3.6 - AzureML"
    },
    "language_info": {
      "name": "python",
      "version": "3.6.9",
      "mimetype": "text/x-python",
      "codemirror_mode": {
        "name": "ipython",
        "version": 3
      },
      "pygments_lexer": "ipython3",
      "nbconvert_exporter": "python",
      "file_extension": ".py"
    },
    "kernel_info": {
      "name": "python3-azureml"
    },
    "microsoft": {
      "host": {
        "AzureML": {
          "notebookHasBeenCompleted": true
        }
      }
    },
    "nteract": {
      "version": "nteract-front-end@1.0.0"
    }
  },
  "nbformat": 4,
  "nbformat_minor": 2
}