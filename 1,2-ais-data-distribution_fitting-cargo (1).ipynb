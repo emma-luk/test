{
  "cells": [
    {
      "cell_type": "markdown",
      "source": [
        "# Cargo: Finding the Best Distribution with AIS Dataset"
      ],
      "metadata": {
        "nteract": {
          "transient": {
            "deleting": false
          }
        }
      }
    },
    {
      "cell_type": "code",
      "source": [
        "# Loading libraries\r\n",
        "import scipy.stats as stats\r\n",
        "from scipy.stats import chi2\r\n",
        "\r\n",
        "import matplotlib.pyplot as plt\r\n",
        "from six.moves import urllib\r\n",
        "import zipfile\r\n",
        "from scipy import stats\r\n",
        "\r\n",
        "import numpy as np\r\n",
        "import pandas as pd\r\n",
        "import seaborn as sns\r\n",
        "from fitter import Fitter, get_common_distributions, get_distributions"
      ],
      "outputs": [],
      "execution_count": 1,
      "metadata": {
        "jupyter": {
          "source_hidden": false,
          "outputs_hidden": false
        },
        "nteract": {
          "transient": {
            "deleting": false
          }
        },
        "gather": {
          "logged": 1643672048965
        }
      }
    },
    {
      "cell_type": "code",
      "source": [
        "# Loading dataset\r\n",
        "# azureml-core of version 1.0.72 or higher is required\r\n",
        "# azureml-dataprep[pandas] of version 1.1.34 or higher is required\r\n",
        "from azureml.core import Workspace, Dataset\r\n",
        "\r\n",
        "subscription_id = '624bc4e1-3ea7-4a94-93f3-4f3f3e4c45fa'\r\n",
        "resource_group = 'erspc-test-resource-group'\r\n",
        "workspace_name = 'DryRunMLWorkspace'\r\n",
        "\r\n",
        "workspace = Workspace(subscription_id, resource_group, workspace_name)\r\n",
        "\r\n",
        "dataset = Dataset.get_by_name(workspace, name='ais-with-larger-geospatial-limit')\r\n",
        "ais_reporting_rates = dataset.to_pandas_dataframe()\r\n"
      ],
      "outputs": [],
      "execution_count": 2,
      "metadata": {
        "gather": {
          "logged": 1643672074588
        }
      }
    },
    {
      "cell_type": "code",
      "source": [
        "# check the number of observations and data types\r\n",
        "ais_reporting_rates.info()"
      ],
      "outputs": [
        {
          "output_type": "stream",
          "name": "stdout",
          "text": "<class 'pandas.core.frame.DataFrame'>\nRangeIndex: 368949 entries, 0 to 368948\nData columns (total 10 columns):\n #   Column              Non-Null Count   Dtype         \n---  ------              --------------   -----         \n 0   message_id          368949 non-null  int64         \n 1   mmsi                368949 non-null  int64         \n 2   message_time_stamp  368949 non-null  datetime64[ns]\n 3   lat                 368949 non-null  float64       \n 4   lon                 368949 non-null  float64       \n 5   heading             368949 non-null  float64       \n 6   sog                 368949 non-null  float64       \n 7   status              368949 non-null  object        \n 8   destination         361968 non-null  object        \n 9   vessel_type         368949 non-null  object        \ndtypes: datetime64[ns](1), float64(4), int64(2), object(3)\nmemory usage: 28.1+ MB\n"
        }
      ],
      "execution_count": 3,
      "metadata": {
        "jupyter": {
          "source_hidden": false,
          "outputs_hidden": false
        },
        "nteract": {
          "transient": {
            "deleting": false
          }
        },
        "gather": {
          "logged": 1643672079339
        }
      }
    },
    {
      "cell_type": "code",
      "source": [
        "#checking the first 5 records in the data\r\n",
        "ais_reporting_rates.head()"
      ],
      "outputs": [
        {
          "output_type": "execute_result",
          "execution_count": 4,
          "data": {
            "text/plain": "   message_id      mmsi  message_time_stamp        lat       lon  heading  \\\n0     9428086  11223344 2020-03-12 17:21:26  50.423552 -0.580688    254.0   \n1     9429453  11223344 2020-03-12 17:26:44  50.419567 -0.609708    260.0   \n2     9430776  11223344 2020-03-12 17:31:22  50.416072 -0.635027    260.0   \n3     9432046  11223344 2020-03-12 17:36:45  50.411950 -0.664525    260.0   \n4     9433162  11223344 2020-03-12 17:42:02  50.407778 -0.693447    260.0   \n\n    sog                  status destination vessel_type  \n0  12.7  Under way using engine        None         N/A  \n1  12.6  Under way using engine        None         N/A  \n2  13.1  Under way using engine        None         N/A  \n3  13.0  Under way using engine        None         N/A  \n4  13.0  Under way using engine        None         N/A  ",
            "text/html": "<div>\n<style scoped>\n    .dataframe tbody tr th:only-of-type {\n        vertical-align: middle;\n    }\n\n    .dataframe tbody tr th {\n        vertical-align: top;\n    }\n\n    .dataframe thead th {\n        text-align: right;\n    }\n</style>\n<table border=\"1\" class=\"dataframe\">\n  <thead>\n    <tr style=\"text-align: right;\">\n      <th></th>\n      <th>message_id</th>\n      <th>mmsi</th>\n      <th>message_time_stamp</th>\n      <th>lat</th>\n      <th>lon</th>\n      <th>heading</th>\n      <th>sog</th>\n      <th>status</th>\n      <th>destination</th>\n      <th>vessel_type</th>\n    </tr>\n  </thead>\n  <tbody>\n    <tr>\n      <th>0</th>\n      <td>9428086</td>\n      <td>11223344</td>\n      <td>2020-03-12 17:21:26</td>\n      <td>50.423552</td>\n      <td>-0.580688</td>\n      <td>254.0</td>\n      <td>12.7</td>\n      <td>Under way using engine</td>\n      <td>None</td>\n      <td>N/A</td>\n    </tr>\n    <tr>\n      <th>1</th>\n      <td>9429453</td>\n      <td>11223344</td>\n      <td>2020-03-12 17:26:44</td>\n      <td>50.419567</td>\n      <td>-0.609708</td>\n      <td>260.0</td>\n      <td>12.6</td>\n      <td>Under way using engine</td>\n      <td>None</td>\n      <td>N/A</td>\n    </tr>\n    <tr>\n      <th>2</th>\n      <td>9430776</td>\n      <td>11223344</td>\n      <td>2020-03-12 17:31:22</td>\n      <td>50.416072</td>\n      <td>-0.635027</td>\n      <td>260.0</td>\n      <td>13.1</td>\n      <td>Under way using engine</td>\n      <td>None</td>\n      <td>N/A</td>\n    </tr>\n    <tr>\n      <th>3</th>\n      <td>9432046</td>\n      <td>11223344</td>\n      <td>2020-03-12 17:36:45</td>\n      <td>50.411950</td>\n      <td>-0.664525</td>\n      <td>260.0</td>\n      <td>13.0</td>\n      <td>Under way using engine</td>\n      <td>None</td>\n      <td>N/A</td>\n    </tr>\n    <tr>\n      <th>4</th>\n      <td>9433162</td>\n      <td>11223344</td>\n      <td>2020-03-12 17:42:02</td>\n      <td>50.407778</td>\n      <td>-0.693447</td>\n      <td>260.0</td>\n      <td>13.0</td>\n      <td>Under way using engine</td>\n      <td>None</td>\n      <td>N/A</td>\n    </tr>\n  </tbody>\n</table>\n</div>"
          },
          "metadata": {}
        }
      ],
      "execution_count": 4,
      "metadata": {
        "jupyter": {
          "source_hidden": false,
          "outputs_hidden": false
        },
        "nteract": {
          "transient": {
            "deleting": false
          }
        },
        "gather": {
          "logged": 1643672084058
        }
      }
    },
    {
      "cell_type": "code",
      "source": [
        "#checking the last 5 records in the data\r\n",
        "ais_reporting_rates.tail()"
      ],
      "outputs": [
        {
          "output_type": "execute_result",
          "execution_count": 5,
          "data": {
            "text/plain": "        message_id       mmsi  message_time_stamp        lat       lon  \\\n368944    11479752  710032130 2020-03-20 20:42:00  50.306265 -1.157915   \n368945    11480956  710032130 2020-03-20 20:56:41  50.294537 -1.239870   \n368946    11481903  710032130 2020-03-20 21:00:41  50.291395 -1.262475   \n368947    11482991  710032130 2020-03-20 21:06:40  50.286498 -1.296945   \n368948    11484116  710032130 2020-03-20 21:12:03  50.282047 -1.328098   \n\n        heading   sog             status         destination vessel_type  \n368944    257.0  13.0  Under way sailing  ANGRA DOS REIS_BRA      Tanker  \n368945    257.0  13.2  Under way sailing  ANGRA DOS REIS_BRA      Tanker  \n368946    257.0  13.5  Under way sailing  ANGRA DOS REIS_BRA      Tanker  \n368947    257.0  13.7  Under way sailing  ANGRA DOS REIS_BRA      Tanker  \n368948    257.0  13.8  Under way sailing  ANGRA DOS REIS_BRA      Tanker  ",
            "text/html": "<div>\n<style scoped>\n    .dataframe tbody tr th:only-of-type {\n        vertical-align: middle;\n    }\n\n    .dataframe tbody tr th {\n        vertical-align: top;\n    }\n\n    .dataframe thead th {\n        text-align: right;\n    }\n</style>\n<table border=\"1\" class=\"dataframe\">\n  <thead>\n    <tr style=\"text-align: right;\">\n      <th></th>\n      <th>message_id</th>\n      <th>mmsi</th>\n      <th>message_time_stamp</th>\n      <th>lat</th>\n      <th>lon</th>\n      <th>heading</th>\n      <th>sog</th>\n      <th>status</th>\n      <th>destination</th>\n      <th>vessel_type</th>\n    </tr>\n  </thead>\n  <tbody>\n    <tr>\n      <th>368944</th>\n      <td>11479752</td>\n      <td>710032130</td>\n      <td>2020-03-20 20:42:00</td>\n      <td>50.306265</td>\n      <td>-1.157915</td>\n      <td>257.0</td>\n      <td>13.0</td>\n      <td>Under way sailing</td>\n      <td>ANGRA DOS REIS_BRA</td>\n      <td>Tanker</td>\n    </tr>\n    <tr>\n      <th>368945</th>\n      <td>11480956</td>\n      <td>710032130</td>\n      <td>2020-03-20 20:56:41</td>\n      <td>50.294537</td>\n      <td>-1.239870</td>\n      <td>257.0</td>\n      <td>13.2</td>\n      <td>Under way sailing</td>\n      <td>ANGRA DOS REIS_BRA</td>\n      <td>Tanker</td>\n    </tr>\n    <tr>\n      <th>368946</th>\n      <td>11481903</td>\n      <td>710032130</td>\n      <td>2020-03-20 21:00:41</td>\n      <td>50.291395</td>\n      <td>-1.262475</td>\n      <td>257.0</td>\n      <td>13.5</td>\n      <td>Under way sailing</td>\n      <td>ANGRA DOS REIS_BRA</td>\n      <td>Tanker</td>\n    </tr>\n    <tr>\n      <th>368947</th>\n      <td>11482991</td>\n      <td>710032130</td>\n      <td>2020-03-20 21:06:40</td>\n      <td>50.286498</td>\n      <td>-1.296945</td>\n      <td>257.0</td>\n      <td>13.7</td>\n      <td>Under way sailing</td>\n      <td>ANGRA DOS REIS_BRA</td>\n      <td>Tanker</td>\n    </tr>\n    <tr>\n      <th>368948</th>\n      <td>11484116</td>\n      <td>710032130</td>\n      <td>2020-03-20 21:12:03</td>\n      <td>50.282047</td>\n      <td>-1.328098</td>\n      <td>257.0</td>\n      <td>13.8</td>\n      <td>Under way sailing</td>\n      <td>ANGRA DOS REIS_BRA</td>\n      <td>Tanker</td>\n    </tr>\n  </tbody>\n</table>\n</div>"
          },
          "metadata": {}
        }
      ],
      "execution_count": 5,
      "metadata": {
        "jupyter": {
          "source_hidden": false,
          "outputs_hidden": false
        },
        "nteract": {
          "transient": {
            "deleting": false
          }
        },
        "gather": {
          "logged": 1643672088742
        }
      }
    },
    {
      "cell_type": "code",
      "source": [
        "ais_reporting_rates.shape"
      ],
      "outputs": [
        {
          "output_type": "execute_result",
          "execution_count": 6,
          "data": {
            "text/plain": "(368949, 10)"
          },
          "metadata": {}
        }
      ],
      "execution_count": 6,
      "metadata": {
        "jupyter": {
          "source_hidden": false,
          "outputs_hidden": false
        },
        "nteract": {
          "transient": {
            "deleting": false
          }
        },
        "gather": {
          "logged": 1643672093464
        }
      }
    },
    {
      "cell_type": "code",
      "source": [
        "# #checking the columns\r\n",
        "ais_reporting_rates.columns"
      ],
      "outputs": [
        {
          "output_type": "execute_result",
          "execution_count": 7,
          "data": {
            "text/plain": "Index(['message_id', 'mmsi', 'message_time_stamp', 'lat', 'lon', 'heading',\n       'sog', 'status', 'destination', 'vessel_type'],\n      dtype='object')"
          },
          "metadata": {}
        }
      ],
      "execution_count": 7,
      "metadata": {
        "jupyter": {
          "source_hidden": false,
          "outputs_hidden": false
        },
        "nteract": {
          "transient": {
            "deleting": false
          }
        },
        "gather": {
          "logged": 1643672098184
        }
      }
    },
    {
      "cell_type": "code",
      "source": [
        "# check unique vessel_type\r\n",
        "ais_reporting_rates[\"vessel_type\"].unique()"
      ],
      "outputs": [
        {
          "output_type": "execute_result",
          "execution_count": 8,
          "data": {
            "text/plain": "array(['N/A', 'Search And Rescue', 'Vessel', 'Tanker', 'Cargo',\n       'Wing In Ground-effect', 'Passenger', 'Tug', 'Law Enforcement',\n       'High Speed Craft'], dtype=object)"
          },
          "metadata": {}
        }
      ],
      "execution_count": 8,
      "metadata": {
        "jupyter": {
          "source_hidden": false,
          "outputs_hidden": false
        },
        "nteract": {
          "transient": {
            "deleting": false
          }
        },
        "gather": {
          "logged": 1643672102942
        }
      }
    },
    {
      "cell_type": "code",
      "source": [
        "# select tug from ais_reporting_rates\r\n",
        "select_cargo = ais_reporting_rates.loc[ais_reporting_rates[\"vessel_type\"] == 'Cargo']\r\n",
        "select_cargo.head()"
      ],
      "outputs": [
        {
          "output_type": "execute_result",
          "execution_count": 9,
          "data": {
            "text/plain": "      message_id       mmsi  message_time_stamp        lat       lon  heading  \\\n9912     1130109  205439000 2020-02-14 04:53:27  49.731933 -0.435420    143.0   \n9913     1131338  205439000 2020-02-14 04:58:48  49.720943 -0.425573    140.0   \n9914     1132600  205439000 2020-02-14 05:03:27  49.711340 -0.416870    140.0   \n9915     1133840  205439000 2020-02-14 05:07:57  49.701975 -0.408578    139.0   \n9916     1135058  205439000 2020-02-14 05:13:27  49.690483 -0.398583    139.0   \n\n      sog                  status    destination vessel_type  \n9912  8.6  Under way using engine  BE ANR_FR URO       Cargo  \n9913  8.7  Under way using engine  BE ANR_FR URO       Cargo  \n9914  8.6  Under way using engine  BE ANR_FR URO       Cargo  \n9915  8.6  Under way using engine  BE ANR_FR URO       Cargo  \n9916  8.6  Under way using engine  BE ANR_FR URO       Cargo  ",
            "text/html": "<div>\n<style scoped>\n    .dataframe tbody tr th:only-of-type {\n        vertical-align: middle;\n    }\n\n    .dataframe tbody tr th {\n        vertical-align: top;\n    }\n\n    .dataframe thead th {\n        text-align: right;\n    }\n</style>\n<table border=\"1\" class=\"dataframe\">\n  <thead>\n    <tr style=\"text-align: right;\">\n      <th></th>\n      <th>message_id</th>\n      <th>mmsi</th>\n      <th>message_time_stamp</th>\n      <th>lat</th>\n      <th>lon</th>\n      <th>heading</th>\n      <th>sog</th>\n      <th>status</th>\n      <th>destination</th>\n      <th>vessel_type</th>\n    </tr>\n  </thead>\n  <tbody>\n    <tr>\n      <th>9912</th>\n      <td>1130109</td>\n      <td>205439000</td>\n      <td>2020-02-14 04:53:27</td>\n      <td>49.731933</td>\n      <td>-0.435420</td>\n      <td>143.0</td>\n      <td>8.6</td>\n      <td>Under way using engine</td>\n      <td>BE ANR_FR URO</td>\n      <td>Cargo</td>\n    </tr>\n    <tr>\n      <th>9913</th>\n      <td>1131338</td>\n      <td>205439000</td>\n      <td>2020-02-14 04:58:48</td>\n      <td>49.720943</td>\n      <td>-0.425573</td>\n      <td>140.0</td>\n      <td>8.7</td>\n      <td>Under way using engine</td>\n      <td>BE ANR_FR URO</td>\n      <td>Cargo</td>\n    </tr>\n    <tr>\n      <th>9914</th>\n      <td>1132600</td>\n      <td>205439000</td>\n      <td>2020-02-14 05:03:27</td>\n      <td>49.711340</td>\n      <td>-0.416870</td>\n      <td>140.0</td>\n      <td>8.6</td>\n      <td>Under way using engine</td>\n      <td>BE ANR_FR URO</td>\n      <td>Cargo</td>\n    </tr>\n    <tr>\n      <th>9915</th>\n      <td>1133840</td>\n      <td>205439000</td>\n      <td>2020-02-14 05:07:57</td>\n      <td>49.701975</td>\n      <td>-0.408578</td>\n      <td>139.0</td>\n      <td>8.6</td>\n      <td>Under way using engine</td>\n      <td>BE ANR_FR URO</td>\n      <td>Cargo</td>\n    </tr>\n    <tr>\n      <th>9916</th>\n      <td>1135058</td>\n      <td>205439000</td>\n      <td>2020-02-14 05:13:27</td>\n      <td>49.690483</td>\n      <td>-0.398583</td>\n      <td>139.0</td>\n      <td>8.6</td>\n      <td>Under way using engine</td>\n      <td>BE ANR_FR URO</td>\n      <td>Cargo</td>\n    </tr>\n  </tbody>\n</table>\n</div>"
          },
          "metadata": {}
        }
      ],
      "execution_count": 9,
      "metadata": {
        "jupyter": {
          "source_hidden": false,
          "outputs_hidden": false
        },
        "nteract": {
          "transient": {
            "deleting": false
          }
        },
        "gather": {
          "logged": 1643672107645
        }
      }
    },
    {
      "cell_type": "code",
      "source": [
        "select_cargo.shape"
      ],
      "outputs": [
        {
          "output_type": "execute_result",
          "execution_count": 10,
          "data": {
            "text/plain": "(197475, 10)"
          },
          "metadata": {}
        }
      ],
      "execution_count": 10,
      "metadata": {
        "jupyter": {
          "source_hidden": false,
          "outputs_hidden": false
        },
        "nteract": {
          "transient": {
            "deleting": false
          }
        },
        "gather": {
          "logged": 1643672112374
        }
      }
    },
    {
      "cell_type": "code",
      "source": [
        "to_drop = ['message_id', 'mmsi','message_time_stamp','lat','lon','heading','status','destination','vessel_type']\r\n",
        "\r\n",
        "select_cargo.drop(to_drop, inplace=True, axis=1)\r\n"
      ],
      "outputs": [
        {
          "output_type": "stream",
          "name": "stderr",
          "text": "/anaconda/envs/azureml_py38/lib/python3.8/site-packages/pandas/core/frame.py:4901: SettingWithCopyWarning: \nA value is trying to be set on a copy of a slice from a DataFrame\n\nSee the caveats in the documentation: https://pandas.pydata.org/pandas-docs/stable/user_guide/indexing.html#returning-a-view-versus-a-copy\n  return super().drop(\n"
        }
      ],
      "execution_count": 11,
      "metadata": {
        "jupyter": {
          "source_hidden": false,
          "outputs_hidden": false
        },
        "nteract": {
          "transient": {
            "deleting": false
          }
        },
        "gather": {
          "logged": 1643672117111
        }
      }
    },
    {
      "cell_type": "code",
      "source": [
        "select_cargo"
      ],
      "outputs": [
        {
          "output_type": "execute_result",
          "execution_count": 12,
          "data": {
            "text/plain": "         sog\n9912     8.6\n9913     8.7\n9914     8.6\n9915     8.6\n9916     8.6\n...      ...\n368603  18.6\n368604  18.6\n368605  18.7\n368606  18.7\n368607  18.7\n\n[197475 rows x 1 columns]",
            "text/html": "<div>\n<style scoped>\n    .dataframe tbody tr th:only-of-type {\n        vertical-align: middle;\n    }\n\n    .dataframe tbody tr th {\n        vertical-align: top;\n    }\n\n    .dataframe thead th {\n        text-align: right;\n    }\n</style>\n<table border=\"1\" class=\"dataframe\">\n  <thead>\n    <tr style=\"text-align: right;\">\n      <th></th>\n      <th>sog</th>\n    </tr>\n  </thead>\n  <tbody>\n    <tr>\n      <th>9912</th>\n      <td>8.6</td>\n    </tr>\n    <tr>\n      <th>9913</th>\n      <td>8.7</td>\n    </tr>\n    <tr>\n      <th>9914</th>\n      <td>8.6</td>\n    </tr>\n    <tr>\n      <th>9915</th>\n      <td>8.6</td>\n    </tr>\n    <tr>\n      <th>9916</th>\n      <td>8.6</td>\n    </tr>\n    <tr>\n      <th>...</th>\n      <td>...</td>\n    </tr>\n    <tr>\n      <th>368603</th>\n      <td>18.6</td>\n    </tr>\n    <tr>\n      <th>368604</th>\n      <td>18.6</td>\n    </tr>\n    <tr>\n      <th>368605</th>\n      <td>18.7</td>\n    </tr>\n    <tr>\n      <th>368606</th>\n      <td>18.7</td>\n    </tr>\n    <tr>\n      <th>368607</th>\n      <td>18.7</td>\n    </tr>\n  </tbody>\n</table>\n<p>197475 rows × 1 columns</p>\n</div>"
          },
          "metadata": {}
        }
      ],
      "execution_count": 12,
      "metadata": {
        "jupyter": {
          "source_hidden": false,
          "outputs_hidden": false
        },
        "nteract": {
          "transient": {
            "deleting": false
          }
        },
        "gather": {
          "logged": 1643672121843
        }
      }
    },
    {
      "cell_type": "code",
      "source": [
        "select_cargo.values"
      ],
      "outputs": [
        {
          "output_type": "execute_result",
          "execution_count": 13,
          "data": {
            "text/plain": "array([[ 8.6],\n       [ 8.7],\n       [ 8.6],\n       ...,\n       [18.7],\n       [18.7],\n       [18.7]])"
          },
          "metadata": {}
        }
      ],
      "execution_count": 13,
      "metadata": {
        "jupyter": {
          "source_hidden": false,
          "outputs_hidden": false
        },
        "nteract": {
          "transient": {
            "deleting": false
          }
        },
        "gather": {
          "logged": 1643672126603
        }
      }
    },
    {
      "cell_type": "code",
      "source": [
        "f = Fitter(select_cargo,\r\n",
        "           distributions = get_distributions())\r\n",
        "f.fit()\r\n",
        "f.summary()"
      ],
      "outputs": [
        {
          "output_type": "stream",
          "name": "stderr",
          "text": "WARNING:root:SKIPPED burr distribution (taking more than 30 seconds)\nWARNING:root:SKIPPED burr12 distribution (taking more than 30 seconds)\nWARNING:root:SKIPPED exponpow distribution (taking more than 30 seconds)\nWARNING:root:SKIPPED exponweib distribution (taking more than 30 seconds)\nWARNING:root:SKIPPED fisk distribution (taking more than 30 seconds)\nWARNING:root:SKIPPED gausshyper distribution (taking more than 30 seconds)\nWARNING:root:SKIPPED gengamma distribution (taking more than 30 seconds)\nWARNING:root:SKIPPED invweibull distribution (taking more than 30 seconds)\nWARNING:root:SKIPPED johnsonsu distribution (taking more than 30 seconds)\nWARNING:root:SKIPPED kappa3 distribution (taking more than 30 seconds)\nWARNING:root:SKIPPED kappa4 distribution (taking more than 30 seconds)\nWARNING:root:SKIPPED ksone distribution (taking more than 30 seconds)\nWARNING:root:SKIPPED levy_stable distribution (taking more than 30 seconds)\nWARNING:root:SKIPPED loglaplace distribution (taking more than 30 seconds)\nWARNING:root:SKIPPED lognorm distribution (taking more than 30 seconds)\nWARNING:root:SKIPPED mielke distribution (taking more than 30 seconds)\nWARNING:root:SKIPPED nakagami distribution (taking more than 30 seconds)\nWARNING:root:SKIPPED ncf distribution (taking more than 30 seconds)\nWARNING:root:SKIPPED nct distribution (taking more than 30 seconds)\nWARNING:root:SKIPPED ncx2 distribution (taking more than 30 seconds)\nWARNING:root:SKIPPED norminvgauss distribution (taking more than 30 seconds)\nWARNING:root:SKIPPED pareto distribution (taking more than 30 seconds)\nWARNING:root:SKIPPED powerlognorm distribution (taking more than 30 seconds)\nWARNING:root:SKIPPED rv_continuous distribution (taking more than 30 seconds)\nWARNING:root:SKIPPED rv_histogram distribution (taking more than 30 seconds)\nWARNING:root:SKIPPED rdist distribution (taking more than 30 seconds)\nWARNING:root:SKIPPED recipinvgauss distribution (taking more than 30 seconds)\nWARNING:root:SKIPPED truncnorm distribution (taking more than 30 seconds)\nWARNING:root:SKIPPED tukeylambda distribution (taking more than 30 seconds)\nWARNING:root:SKIPPED vonmises distribution (taking more than 30 seconds)\nWARNING:root:SKIPPED vonmises_line distribution (taking more than 30 seconds)\nWARNING:root:SKIPPED weibull_max distribution (taking more than 30 seconds)\nWARNING:root:SKIPPED weibull_min distribution (taking more than 30 seconds)\n"
        },
        {
          "output_type": "execute_result",
          "execution_count": 14,
          "data": {
            "text/plain": "             sumsquare_error          aic           bic  kl_div\ngenlogistic         0.005878  1048.725316 -3.422171e+06     inf\npowernorm           0.006401  1296.360186 -3.405346e+06     inf\npearson3            0.006494  1347.257116 -3.402498e+06     inf\nloggamma            0.006511  1328.668346 -3.401980e+06     inf\nlogistic            0.006684  1016.553496 -3.396812e+06     inf",
            "text/html": "<div>\n<style scoped>\n    .dataframe tbody tr th:only-of-type {\n        vertical-align: middle;\n    }\n\n    .dataframe tbody tr th {\n        vertical-align: top;\n    }\n\n    .dataframe thead th {\n        text-align: right;\n    }\n</style>\n<table border=\"1\" class=\"dataframe\">\n  <thead>\n    <tr style=\"text-align: right;\">\n      <th></th>\n      <th>sumsquare_error</th>\n      <th>aic</th>\n      <th>bic</th>\n      <th>kl_div</th>\n    </tr>\n  </thead>\n  <tbody>\n    <tr>\n      <th>genlogistic</th>\n      <td>0.005878</td>\n      <td>1048.725316</td>\n      <td>-3.422171e+06</td>\n      <td>inf</td>\n    </tr>\n    <tr>\n      <th>powernorm</th>\n      <td>0.006401</td>\n      <td>1296.360186</td>\n      <td>-3.405346e+06</td>\n      <td>inf</td>\n    </tr>\n    <tr>\n      <th>pearson3</th>\n      <td>0.006494</td>\n      <td>1347.257116</td>\n      <td>-3.402498e+06</td>\n      <td>inf</td>\n    </tr>\n    <tr>\n      <th>loggamma</th>\n      <td>0.006511</td>\n      <td>1328.668346</td>\n      <td>-3.401980e+06</td>\n      <td>inf</td>\n    </tr>\n    <tr>\n      <th>logistic</th>\n      <td>0.006684</td>\n      <td>1016.553496</td>\n      <td>-3.396812e+06</td>\n      <td>inf</td>\n    </tr>\n  </tbody>\n</table>\n</div>"
          },
          "metadata": {}
        },
        {
          "output_type": "display_data",
          "data": {
            "text/plain": "<Figure size 432x288 with 1 Axes>",
            "image/png": "[encoded data removed]"
          },
          "metadata": {
            "needs_background": "light"
          }
        }
      ],
      "execution_count": 14,
      "metadata": {
        "jupyter": {
          "source_hidden": false,
          "outputs_hidden": false
        },
        "nteract": {
          "transient": {
            "deleting": false
          }
        },
        "gather": {
          "logged": 1643672505764
        }
      }
    }
  ],
  "metadata": {
    "kernelspec": {
      "name": "python38-azureml",
      "language": "python",
      "display_name": "Python 3.8 - AzureML"
    },
    "language_info": {
      "name": "python",
      "version": "3.8.1",
      "mimetype": "text/x-python",
      "codemirror_mode": {
        "name": "ipython",
        "version": 3
      },
      "pygments_lexer": "ipython3",
      "nbconvert_exporter": "python",
      "file_extension": ".py"
    },
    "kernel_info": {
      "name": "python38-azureml"
    },
    "microsoft": {
      "host": {
        "AzureML": {
          "notebookHasBeenCompleted": true
        }
      }
    },
    "nteract": {
      "version": "nteract-front-end@1.0.0"
    }
  },
  "nbformat": 4,
  "nbformat_minor": 2
}